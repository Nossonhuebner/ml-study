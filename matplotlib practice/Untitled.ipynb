{
 "cells": [
  {
   "cell_type": "code",
   "execution_count": null,
   "id": "50f698af-66bd-46bf-9511-e9f952871c8a",
   "metadata": {},
   "outputs": [],
   "source": [
    "import numpy as np"
   ]
  },
  {
   "cell_type": "code",
   "execution_count": null,
   "id": "09cd37d2-7603-4cd2-90c3-2ea0e01dc7a4",
   "metadata": {},
   "outputs": [],
   "source": [
    "import matplotlib.pyplot as plt"
   ]
  },
  {
   "cell_type": "code",
   "execution_count": null,
   "id": "98799830-0eab-485c-903f-ef836077a8ff",
   "metadata": {},
   "outputs": [],
   "source": [
    "%matplotlib inline"
   ]
  },
  {
   "cell_type": "markdown",
   "id": "4eed318b-d061-498b-90f7-164732dc7c6a",
   "metadata": {
    "tags": []
   },
   "source": [
    "### 0: The basics"
   ]
  },
  {
   "cell_type": "markdown",
   "id": "406f2c9c-8503-46a3-a27f-d7c466aa6151",
   "metadata": {
    "tags": []
   },
   "source": [
    "##### linspace, plot, documentation for plot, figure, show"
   ]
  },
  {
   "cell_type": "code",
   "execution_count": null,
   "id": "e4430a30-132e-486d-8573-4d0ff7cad1c6",
   "metadata": {},
   "outputs": [
    {
     "data": {
      "text/plain": [
       "\u001b[0;31mSignature:\u001b[0m\n",
       "\u001b[0mnp\u001b[0m\u001b[0;34m.\u001b[0m\u001b[0mlinspace\u001b[0m\u001b[0;34m(\u001b[0m\u001b[0;34m\u001b[0m\n",
       "\u001b[0;34m\u001b[0m    \u001b[0mstart\u001b[0m\u001b[0;34m,\u001b[0m\u001b[0;34m\u001b[0m\n",
       "\u001b[0;34m\u001b[0m    \u001b[0mstop\u001b[0m\u001b[0;34m,\u001b[0m\u001b[0;34m\u001b[0m\n",
       "\u001b[0;34m\u001b[0m    \u001b[0mnum\u001b[0m\u001b[0;34m=\u001b[0m\u001b[0;36m50\u001b[0m\u001b[0;34m,\u001b[0m\u001b[0;34m\u001b[0m\n",
       "\u001b[0;34m\u001b[0m    \u001b[0mendpoint\u001b[0m\u001b[0;34m=\u001b[0m\u001b[0;32mTrue\u001b[0m\u001b[0;34m,\u001b[0m\u001b[0;34m\u001b[0m\n",
       "\u001b[0;34m\u001b[0m    \u001b[0mretstep\u001b[0m\u001b[0;34m=\u001b[0m\u001b[0;32mFalse\u001b[0m\u001b[0;34m,\u001b[0m\u001b[0;34m\u001b[0m\n",
       "\u001b[0;34m\u001b[0m    \u001b[0mdtype\u001b[0m\u001b[0;34m=\u001b[0m\u001b[0;32mNone\u001b[0m\u001b[0;34m,\u001b[0m\u001b[0;34m\u001b[0m\n",
       "\u001b[0;34m\u001b[0m    \u001b[0maxis\u001b[0m\u001b[0;34m=\u001b[0m\u001b[0;36m0\u001b[0m\u001b[0;34m,\u001b[0m\u001b[0;34m\u001b[0m\n",
       "\u001b[0;34m\u001b[0m\u001b[0;34m)\u001b[0m\u001b[0;34m\u001b[0m\u001b[0;34m\u001b[0m\u001b[0m\n",
       "\u001b[0;31mDocstring:\u001b[0m\n",
       "Return evenly spaced numbers over a specified interval.\n",
       "\n",
       "Returns `num` evenly spaced samples, calculated over the\n",
       "interval [`start`, `stop`].\n",
       "\n",
       "The endpoint of the interval can optionally be excluded.\n",
       "\n",
       ".. versionchanged:: 1.16.0\n",
       "    Non-scalar `start` and `stop` are now supported.\n",
       "\n",
       ".. versionchanged:: 1.20.0\n",
       "    Values are rounded towards ``-inf`` instead of ``0`` when an\n",
       "    integer ``dtype`` is specified. The old behavior can\n",
       "    still be obtained with ``np.linspace(start, stop, num).astype(int)``\n",
       "\n",
       "Parameters\n",
       "----------\n",
       "start : array_like\n",
       "    The starting value of the sequence.\n",
       "stop : array_like\n",
       "    The end value of the sequence, unless `endpoint` is set to False.\n",
       "    In that case, the sequence consists of all but the last of ``num + 1``\n",
       "    evenly spaced samples, so that `stop` is excluded.  Note that the step\n",
       "    size changes when `endpoint` is False.\n",
       "num : int, optional\n",
       "    Number of samples to generate. Default is 50. Must be non-negative.\n",
       "endpoint : bool, optional\n",
       "    If True, `stop` is the last sample. Otherwise, it is not included.\n",
       "    Default is True.\n",
       "retstep : bool, optional\n",
       "    If True, return (`samples`, `step`), where `step` is the spacing\n",
       "    between samples.\n",
       "dtype : dtype, optional\n",
       "    The type of the output array.  If `dtype` is not given, the data type\n",
       "    is inferred from `start` and `stop`. The inferred dtype will never be\n",
       "    an integer; `float` is chosen even if the arguments would produce an\n",
       "    array of integers.\n",
       "\n",
       "    .. versionadded:: 1.9.0\n",
       "\n",
       "axis : int, optional\n",
       "    The axis in the result to store the samples.  Relevant only if start\n",
       "    or stop are array-like.  By default (0), the samples will be along a\n",
       "    new axis inserted at the beginning. Use -1 to get an axis at the end.\n",
       "\n",
       "    .. versionadded:: 1.16.0\n",
       "\n",
       "Returns\n",
       "-------\n",
       "samples : ndarray\n",
       "    There are `num` equally spaced samples in the closed interval\n",
       "    ``[start, stop]`` or the half-open interval ``[start, stop)``\n",
       "    (depending on whether `endpoint` is True or False).\n",
       "step : float, optional\n",
       "    Only returned if `retstep` is True\n",
       "\n",
       "    Size of spacing between samples.\n",
       "\n",
       "\n",
       "See Also\n",
       "--------\n",
       "arange : Similar to `linspace`, but uses a step size (instead of the\n",
       "         number of samples).\n",
       "geomspace : Similar to `linspace`, but with numbers spaced evenly on a log\n",
       "            scale (a geometric progression).\n",
       "logspace : Similar to `geomspace`, but with the end points specified as\n",
       "           logarithms.\n",
       "\n",
       "Examples\n",
       "--------\n",
       ">>> np.linspace(2.0, 3.0, num=5)\n",
       "array([2.  , 2.25, 2.5 , 2.75, 3.  ])\n",
       ">>> np.linspace(2.0, 3.0, num=5, endpoint=False)\n",
       "array([2. ,  2.2,  2.4,  2.6,  2.8])\n",
       ">>> np.linspace(2.0, 3.0, num=5, retstep=True)\n",
       "(array([2.  ,  2.25,  2.5 ,  2.75,  3.  ]), 0.25)\n",
       "\n",
       "Graphical illustration:\n",
       "\n",
       ">>> import matplotlib.pyplot as plt\n",
       ">>> N = 8\n",
       ">>> y = np.zeros(N)\n",
       ">>> x1 = np.linspace(0, 10, N, endpoint=True)\n",
       ">>> x2 = np.linspace(0, 10, N, endpoint=False)\n",
       ">>> plt.plot(x1, y, 'o')\n",
       "[<matplotlib.lines.Line2D object at 0x...>]\n",
       ">>> plt.plot(x2, y + 0.5, 'o')\n",
       "[<matplotlib.lines.Line2D object at 0x...>]\n",
       ">>> plt.ylim([-0.5, 1])\n",
       "(-0.5, 1)\n",
       ">>> plt.show()\n",
       "\u001b[0;31mFile:\u001b[0m      /usr/local/lib/python3.9/dist-packages/numpy/core/function_base.py\n",
       "\u001b[0;31mType:\u001b[0m      function\n"
      ]
     },
     "metadata": {},
     "output_type": "display_data"
    }
   ],
   "source": [
    "np.linspace?"
   ]
  },
  {
   "cell_type": "code",
   "execution_count": null,
   "id": "a8f5a33b-9103-4a69-806d-cb3b5d76b701",
   "metadata": {},
   "outputs": [],
   "source": [
    "x_curve = np.linspace(-2 * np.pi, 2 * np.pi, 500);"
   ]
  },
  {
   "cell_type": "code",
   "execution_count": null,
   "id": "3f7565e2-6d40-4c07-b11f-791504df7c76",
   "metadata": {},
   "outputs": [],
   "source": [
    "y_curve = np.sinc(x_curve)"
   ]
  },
  {
   "cell_type": "code",
   "execution_count": null,
   "id": "5ad05028-5c58-4254-a28d-43ccb5cd23cf",
   "metadata": {},
   "outputs": [],
   "source": []
  },
  {
   "cell_type": "code",
   "execution_count": null,
   "id": "ac7ab060-644d-47c0-9ba9-01aec99f9dd1",
   "metadata": {},
   "outputs": [
    {
     "data": {
      "image/png": "[encoded data removed]",
      "text/plain": [
       "<Figure size 432x288 with 1 Axes>"
      ]
     },
     "metadata": {
      "needs_background": "light"
     },
     "output_type": "display_data"
    }
   ],
   "source": [
    "plt.figure(1)\n",
    "\n",
    "plt.plot(x_curve, y_curve, '|c:')\n",
    "plt.show()"
   ]
  },
  {
   "cell_type": "code",
   "execution_count": null,
   "id": "60261e1d-e84f-4a75-b090-a226db24748f",
   "metadata": {},
   "outputs": [],
   "source": []
  },
  {
   "cell_type": "code",
   "execution_count": null,
   "id": "7c76b164-fb8b-4b8b-9e13-aba11c348126",
   "metadata": {},
   "outputs": [
    {
     "data": {
      "text/plain": [
       "\u001b[0;31mSignature:\u001b[0m\n",
       "\u001b[0mplt\u001b[0m\u001b[0;34m.\u001b[0m\u001b[0mfigure\u001b[0m\u001b[0;34m(\u001b[0m\u001b[0;34m\u001b[0m\n",
       "\u001b[0;34m\u001b[0m    \u001b[0mnum\u001b[0m\u001b[0;34m=\u001b[0m\u001b[0;32mNone\u001b[0m\u001b[0;34m,\u001b[0m\u001b[0;34m\u001b[0m\n",
       "\u001b[0;34m\u001b[0m    \u001b[0mfigsize\u001b[0m\u001b[0;34m=\u001b[0m\u001b[0;32mNone\u001b[0m\u001b[0;34m,\u001b[0m\u001b[0;34m\u001b[0m\n",
       "\u001b[0;34m\u001b[0m    \u001b[0mdpi\u001b[0m\u001b[0;34m=\u001b[0m\u001b[0;32mNone\u001b[0m\u001b[0;34m,\u001b[0m\u001b[0;34m\u001b[0m\n",
       "\u001b[0;34m\u001b[0m    \u001b[0mfacecolor\u001b[0m\u001b[0;34m=\u001b[0m\u001b[0;32mNone\u001b[0m\u001b[0;34m,\u001b[0m\u001b[0;34m\u001b[0m\n",
       "\u001b[0;34m\u001b[0m    \u001b[0medgecolor\u001b[0m\u001b[0;34m=\u001b[0m\u001b[0;32mNone\u001b[0m\u001b[0;34m,\u001b[0m\u001b[0;34m\u001b[0m\n",
       "\u001b[0;34m\u001b[0m    \u001b[0mframeon\u001b[0m\u001b[0;34m=\u001b[0m\u001b[0;32mTrue\u001b[0m\u001b[0;34m,\u001b[0m\u001b[0;34m\u001b[0m\n",
       "\u001b[0;34m\u001b[0m    \u001b[0mFigureClass\u001b[0m\u001b[0;34m=\u001b[0m\u001b[0;34m<\u001b[0m\u001b[0;32mclass\u001b[0m \u001b[0;34m'matplotlib.figure.Figure'\u001b[0m\u001b[0;34m>\u001b[0m\u001b[0;34m,\u001b[0m\u001b[0;34m\u001b[0m\n",
       "\u001b[0;34m\u001b[0m    \u001b[0mclear\u001b[0m\u001b[0;34m=\u001b[0m\u001b[0;32mFalse\u001b[0m\u001b[0;34m,\u001b[0m\u001b[0;34m\u001b[0m\n",
       "\u001b[0;34m\u001b[0m    \u001b[0;34m**\u001b[0m\u001b[0mkwargs\u001b[0m\u001b[0;34m,\u001b[0m\u001b[0;34m\u001b[0m\n",
       "\u001b[0;34m\u001b[0m\u001b[0;34m)\u001b[0m\u001b[0;34m\u001b[0m\u001b[0;34m\u001b[0m\u001b[0m\n",
       "\u001b[0;31mDocstring:\u001b[0m\n",
       "Create a new figure, or activate an existing figure.\n",
       "\n",
       "Parameters\n",
       "----------\n",
       "num : int or str or `.Figure`, optional\n",
       "    A unique identifier for the figure.\n",
       "\n",
       "    If a figure with that identifier already exists, this figure is made\n",
       "    active and returned. An integer refers to the ``Figure.number``\n",
       "    attribute, a string refers to the figure label.\n",
       "\n",
       "    If there is no figure with the identifier or *num* is not given, a new\n",
       "    figure is created, made active and returned.  If *num* is an int, it\n",
       "    will be used for the ``Figure.number`` attribute, otherwise, an\n",
       "    auto-generated integer value is used (starting at 1 and incremented\n",
       "    for each new figure). If *num* is a string, the figure label and the\n",
       "    window title is set to this value.\n",
       "\n",
       "figsize : (float, float), default: :rc:`figure.figsize`\n",
       "    Width, height in inches.\n",
       "\n",
       "dpi : float, default: :rc:`figure.dpi`\n",
       "    The resolution of the figure in dots-per-inch.\n",
       "\n",
       "facecolor : color, default: :rc:`figure.facecolor`\n",
       "    The background color.\n",
       "\n",
       "edgecolor : color, default: :rc:`figure.edgecolor`\n",
       "    The border color.\n",
       "\n",
       "frameon : bool, default: True\n",
       "    If False, suppress drawing the figure frame.\n",
       "\n",
       "FigureClass : subclass of `~matplotlib.figure.Figure`\n",
       "    Optionally use a custom `.Figure` instance.\n",
       "\n",
       "clear : bool, default: False\n",
       "    If True and the figure already exists, then it is cleared.\n",
       "\n",
       "tight_layout : bool or dict, default: :rc:`figure.autolayout`\n",
       "    If ``False`` use *subplotpars*. If ``True`` adjust subplot\n",
       "    parameters using `.tight_layout` with default padding.\n",
       "    When providing a dict containing the keys ``pad``, ``w_pad``,\n",
       "    ``h_pad``, and ``rect``, the default `.tight_layout` paddings\n",
       "    will be overridden.\n",
       "\n",
       "constrained_layout : bool, default: :rc:`figure.constrained_layout.use`\n",
       "    If ``True`` use constrained layout to adjust positioning of plot\n",
       "    elements.  Like ``tight_layout``, but designed to be more\n",
       "    flexible.  See\n",
       "    :doc:`/tutorials/intermediate/constrainedlayout_guide`\n",
       "    for examples.  (Note: does not work with `add_subplot` or\n",
       "    `~.pyplot.subplot2grid`.)\n",
       "\n",
       "\n",
       "**kwargs : optional\n",
       "    See `~.matplotlib.figure.Figure` for other possible arguments.\n",
       "\n",
       "Returns\n",
       "-------\n",
       "`~matplotlib.figure.Figure`\n",
       "    The `.Figure` instance returned will also be passed to\n",
       "    new_figure_manager in the backends, which allows to hook custom\n",
       "    `.Figure` classes into the pyplot interface. Additional kwargs will be\n",
       "    passed to the `.Figure` init function.\n",
       "\n",
       "Notes\n",
       "-----\n",
       "If you are creating many figures, make sure you explicitly call\n",
       "`.pyplot.close` on the figures you are not using, because this will\n",
       "enable pyplot to properly clean up the memory.\n",
       "\n",
       "`~matplotlib.rcParams` defines the default values, which can be modified\n",
       "in the matplotlibrc file.\n",
       "\u001b[0;31mFile:\u001b[0m      /usr/local/lib/python3.9/dist-packages/matplotlib/pyplot.py\n",
       "\u001b[0;31mType:\u001b[0m      function\n"
      ]
     },
     "metadata": {},
     "output_type": "display_data"
    }
   ],
   "source": [
    "plt.figure?"
   ]
  },
  {
   "cell_type": "code",
   "execution_count": null,
   "id": "a7916d8f-90c4-440e-a59c-65bdacf3c0f8",
   "metadata": {},
   "outputs": [
    {
     "data": {
      "text/plain": [
       "\u001b[0;31mSignature:\u001b[0m \u001b[0mplt\u001b[0m\u001b[0;34m.\u001b[0m\u001b[0mplot\u001b[0m\u001b[0;34m(\u001b[0m\u001b[0;34m*\u001b[0m\u001b[0margs\u001b[0m\u001b[0;34m,\u001b[0m \u001b[0mscalex\u001b[0m\u001b[0;34m=\u001b[0m\u001b[0;32mTrue\u001b[0m\u001b[0;34m,\u001b[0m \u001b[0mscaley\u001b[0m\u001b[0;34m=\u001b[0m\u001b[0;32mTrue\u001b[0m\u001b[0;34m,\u001b[0m \u001b[0mdata\u001b[0m\u001b[0;34m=\u001b[0m\u001b[0;32mNone\u001b[0m\u001b[0;34m,\u001b[0m \u001b[0;34m**\u001b[0m\u001b[0mkwargs\u001b[0m\u001b[0;34m)\u001b[0m\u001b[0;34m\u001b[0m\u001b[0;34m\u001b[0m\u001b[0m\n",
       "\u001b[0;31mDocstring:\u001b[0m\n",
       "Plot y versus x as lines and/or markers.\n",
       "\n",
       "Call signatures::\n",
       "\n",
       "    plot([x], y, [fmt], *, data=None, **kwargs)\n",
       "    plot([x], y, [fmt], [x2], y2, [fmt2], ..., **kwargs)\n",
       "\n",
       "The coordinates of the points or line nodes are given by *x*, *y*.\n",
       "\n",
       "The optional parameter *fmt* is a convenient way for defining basic\n",
       "formatting like color, marker and linestyle. It's a shortcut string\n",
       "notation described in the *Notes* section below.\n",
       "\n",
       ">>> plot(x, y)        # plot x and y using default line style and color\n",
       ">>> plot(x, y, 'bo')  # plot x and y using blue circle markers\n",
       ">>> plot(y)           # plot y using x as index array 0..N-1\n",
       ">>> plot(y, 'r+')     # ditto, but with red plusses\n",
       "\n",
       "You can use `.Line2D` properties as keyword arguments for more\n",
       "control on the appearance. Line properties and *fmt* can be mixed.\n",
       "The following two calls yield identical results:\n",
       "\n",
       ">>> plot(x, y, 'go--', linewidth=2, markersize=12)\n",
       ">>> plot(x, y, color='green', marker='o', linestyle='dashed',\n",
       "...      linewidth=2, markersize=12)\n",
       "\n",
       "When conflicting with *fmt*, keyword arguments take precedence.\n",
       "\n",
       "\n",
       "**Plotting labelled data**\n",
       "\n",
       "There's a convenient way for plotting objects with labelled data (i.e.\n",
       "data that can be accessed by index ``obj['y']``). Instead of giving\n",
       "the data in *x* and *y*, you can provide the object in the *data*\n",
       "parameter and just give the labels for *x* and *y*::\n",
       "\n",
       ">>> plot('xlabel', 'ylabel', data=obj)\n",
       "\n",
       "All indexable objects are supported. This could e.g. be a `dict`, a\n",
       "`pandas.DataFrame` or a structured numpy array.\n",
       "\n",
       "\n",
       "**Plotting multiple sets of data**\n",
       "\n",
       "There are various ways to plot multiple sets of data.\n",
       "\n",
       "- The most straight forward way is just to call `plot` multiple times.\n",
       "  Example:\n",
       "\n",
       "  >>> plot(x1, y1, 'bo')\n",
       "  >>> plot(x2, y2, 'go')\n",
       "\n",
       "- If *x* and/or *y* are 2D arrays a separate data set will be drawn\n",
       "  for every column. If both *x* and *y* are 2D, they must have the\n",
       "  same shape. If only one of them is 2D with shape (N, m) the other\n",
       "  must have length N and will be used for every data set m.\n",
       "\n",
       "  Example:\n",
       "\n",
       "  >>> x = [1, 2, 3]\n",
       "  >>> y = np.array([[1, 2], [3, 4], [5, 6]])\n",
       "  >>> plot(x, y)\n",
       "\n",
       "  is equivalent to:\n",
       "\n",
       "  >>> for col in range(y.shape[1]):\n",
       "  ...     plot(x, y[:, col])\n",
       "\n",
       "- The third way is to specify multiple sets of *[x]*, *y*, *[fmt]*\n",
       "  groups::\n",
       "\n",
       "  >>> plot(x1, y1, 'g^', x2, y2, 'g-')\n",
       "\n",
       "  In this case, any additional keyword argument applies to all\n",
       "  datasets. Also this syntax cannot be combined with the *data*\n",
       "  parameter.\n",
       "\n",
       "By default, each line is assigned a different style specified by a\n",
       "'style cycle'. The *fmt* and line property parameters are only\n",
       "necessary if you want explicit deviations from these defaults.\n",
       "Alternatively, you can also change the style cycle using\n",
       ":rc:`axes.prop_cycle`.\n",
       "\n",
       "\n",
       "Parameters\n",
       "----------\n",
       "x, y : array-like or scalar\n",
       "    The horizontal / vertical coordinates of the data points.\n",
       "    *x* values are optional and default to ``range(len(y))``.\n",
       "\n",
       "    Commonly, these parameters are 1D arrays.\n",
       "\n",
       "    They can also be scalars, or two-dimensional (in that case, the\n",
       "    columns represent separate data sets).\n",
       "\n",
       "    These arguments cannot be passed as keywords.\n",
       "\n",
       "fmt : str, optional\n",
       "    A format string, e.g. 'ro' for red circles. See the *Notes*\n",
       "    section for a full description of the format strings.\n",
       "\n",
       "    Format strings are just an abbreviation for quickly setting\n",
       "    basic line properties. All of these and more can also be\n",
       "    controlled by keyword arguments.\n",
       "\n",
       "    This argument cannot be passed as keyword.\n",
       "\n",
       "data : indexable object, optional\n",
       "    An object with labelled data. If given, provide the label names to\n",
       "    plot in *x* and *y*.\n",
       "\n",
       "    .. note::\n",
       "        Technically there's a slight ambiguity in calls where the\n",
       "        second label is a valid *fmt*. ``plot('n', 'o', data=obj)``\n",
       "        could be ``plt(x, y)`` or ``plt(y, fmt)``. In such cases,\n",
       "        the former interpretation is chosen, but a warning is issued.\n",
       "        You may suppress the warning by adding an empty format string\n",
       "        ``plot('n', 'o', '', data=obj)``.\n",
       "\n",
       "Returns\n",
       "-------\n",
       "list of `.Line2D`\n",
       "    A list of lines representing the plotted data.\n",
       "\n",
       "Other Parameters\n",
       "----------------\n",
       "scalex, scaley : bool, default: True\n",
       "    These parameters determine if the view limits are adapted to the\n",
       "    data limits. The values are passed on to `autoscale_view`.\n",
       "\n",
       "**kwargs : `.Line2D` properties, optional\n",
       "    *kwargs* are used to specify properties like a line label (for\n",
       "    auto legends), linewidth, antialiasing, marker face color.\n",
       "    Example::\n",
       "\n",
       "    >>> plot([1, 2, 3], [1, 2, 3], 'go-', label='line 1', linewidth=2)\n",
       "    >>> plot([1, 2, 3], [1, 4, 9], 'rs', label='line 2')\n",
       "\n",
       "    If you specify multiple lines with one plot call, the kwargs apply\n",
       "    to all those lines. In case the label object is iterable, each\n",
       "    element is used as labels for each set of data.\n",
       "\n",
       "    Here is a list of available `.Line2D` properties:\n",
       "\n",
       "    Properties:\n",
       "    agg_filter: a filter function, which takes a (m, n, 3) float array and a dpi value, and returns a (m, n, 3) array\n",
       "    alpha: scalar or None\n",
       "    animated: bool\n",
       "    antialiased or aa: bool\n",
       "    clip_box: `.Bbox`\n",
       "    clip_on: bool\n",
       "    clip_path: Patch or (Path, Transform) or None\n",
       "    color or c: color\n",
       "    dash_capstyle: `.CapStyle` or {'butt', 'projecting', 'round'}\n",
       "    dash_joinstyle: `.JoinStyle` or {'miter', 'round', 'bevel'}\n",
       "    dashes: sequence of floats (on/off ink in points) or (None, None)\n",
       "    data: (2, N) array or two 1D arrays\n",
       "    drawstyle or ds: {'default', 'steps', 'steps-pre', 'steps-mid', 'steps-post'}, default: 'default'\n",
       "    figure: `.Figure`\n",
       "    fillstyle: {'full', 'left', 'right', 'bottom', 'top', 'none'}\n",
       "    gid: str\n",
       "    in_layout: bool\n",
       "    label: object\n",
       "    linestyle or ls: {'-', '--', '-.', ':', '', (offset, on-off-seq), ...}\n",
       "    linewidth or lw: float\n",
       "    marker: marker style string, `~.path.Path` or `~.markers.MarkerStyle`\n",
       "    markeredgecolor or mec: color\n",
       "    markeredgewidth or mew: float\n",
       "    markerfacecolor or mfc: color\n",
       "    markerfacecoloralt or mfcalt: color\n",
       "    markersize or ms: float\n",
       "    markevery: None or int or (int, int) or slice or list[int] or float or (float, float) or list[bool]\n",
       "    path_effects: `.AbstractPathEffect`\n",
       "    picker: float or callable[[Artist, Event], tuple[bool, dict]]\n",
       "    pickradius: float\n",
       "    rasterized: bool\n",
       "    sketch_params: (scale: float, length: float, randomness: float)\n",
       "    snap: bool or None\n",
       "    solid_capstyle: `.CapStyle` or {'butt', 'projecting', 'round'}\n",
       "    solid_joinstyle: `.JoinStyle` or {'miter', 'round', 'bevel'}\n",
       "    transform: unknown\n",
       "    url: str\n",
       "    visible: bool\n",
       "    xdata: 1D array\n",
       "    ydata: 1D array\n",
       "    zorder: float\n",
       "\n",
       "See Also\n",
       "--------\n",
       "scatter : XY scatter plot with markers of varying size and/or color (\n",
       "    sometimes also called bubble chart).\n",
       "\n",
       "Notes\n",
       "-----\n",
       "**Format Strings**\n",
       "\n",
       "A format string consists of a part for color, marker and line::\n",
       "\n",
       "    fmt = '[marker][line][color]'\n",
       "\n",
       "Each of them is optional. If not provided, the value from the style\n",
       "cycle is used. Exception: If ``line`` is given, but no ``marker``,\n",
       "the data will be a line without markers.\n",
       "\n",
       "Other combinations such as ``[color][marker][line]`` are also\n",
       "supported, but note that their parsing may be ambiguous.\n",
       "\n",
       "**Markers**\n",
       "\n",
       "=============   ===============================\n",
       "character       description\n",
       "=============   ===============================\n",
       "``'.'``         point marker\n",
       "``','``         pixel marker\n",
       "``'o'``         circle marker\n",
       "``'v'``         triangle_down marker\n",
       "``'^'``         triangle_up marker\n",
       "``'<'``         triangle_left marker\n",
       "``'>'``         triangle_right marker\n",
       "``'1'``         tri_down marker\n",
       "``'2'``         tri_up marker\n",
       "``'3'``         tri_left marker\n",
       "``'4'``         tri_right marker\n",
       "``'8'``         octagon marker\n",
       "``'s'``         square marker\n",
       "``'p'``         pentagon marker\n",
       "``'P'``         plus (filled) marker\n",
       "``'*'``         star marker\n",
       "``'h'``         hexagon1 marker\n",
       "``'H'``         hexagon2 marker\n",
       "``'+'``         plus marker\n",
       "``'x'``         x marker\n",
       "``'X'``         x (filled) marker\n",
       "``'D'``         diamond marker\n",
       "``'d'``         thin_diamond marker\n",
       "``'|'``         vline marker\n",
       "``'_'``         hline marker\n",
       "=============   ===============================\n",
       "\n",
       "**Line Styles**\n",
       "\n",
       "=============    ===============================\n",
       "character        description\n",
       "=============    ===============================\n",
       "``'-'``          solid line style\n",
       "``'--'``         dashed line style\n",
       "``'-.'``         dash-dot line style\n",
       "``':'``          dotted line style\n",
       "=============    ===============================\n",
       "\n",
       "Example format strings::\n",
       "\n",
       "    'b'    # blue markers with default shape\n",
       "    'or'   # red circles\n",
       "    '-g'   # green solid line\n",
       "    '--'   # dashed line with default color\n",
       "    '^k:'  # black triangle_up markers connected by a dotted line\n",
       "\n",
       "**Colors**\n",
       "\n",
       "The supported color abbreviations are the single letter codes\n",
       "\n",
       "=============    ===============================\n",
       "character        color\n",
       "=============    ===============================\n",
       "``'b'``          blue\n",
       "``'g'``          green\n",
       "``'r'``          red\n",
       "``'c'``          cyan\n",
       "``'m'``          magenta\n",
       "``'y'``          yellow\n",
       "``'k'``          black\n",
       "``'w'``          white\n",
       "=============    ===============================\n",
       "\n",
       "and the ``'CN'`` colors that index into the default property cycle.\n",
       "\n",
       "If the color is the only part of the format string, you can\n",
       "additionally use any  `matplotlib.colors` spec, e.g. full names\n",
       "(``'green'``) or hex strings (``'#008000'``).\n",
       "\u001b[0;31mFile:\u001b[0m      /usr/local/lib/python3.9/dist-packages/matplotlib/pyplot.py\n",
       "\u001b[0;31mType:\u001b[0m      function\n"
      ]
     },
     "metadata": {},
     "output_type": "display_data"
    }
   ],
   "source": [
    "plt.plot?"
   ]
  },
  {
   "cell_type": "code",
   "execution_count": null,
   "id": "509e622e-3925-4312-9095-56f9300ddcec",
   "metadata": {},
   "outputs": [],
   "source": []
  },
  {
   "cell_type": "markdown",
   "id": "f344ae55-bb55-4a8d-a543-9ce3899eb9f9",
   "metadata": {
    "tags": []
   },
   "source": [
    "##### scatter"
   ]
  },
  {
   "cell_type": "code",
   "execution_count": null,
   "id": "d0f2b295-d86b-45fe-b09c-600872eda82a",
   "metadata": {},
   "outputs": [],
   "source": [
    "x_scatter = np.linspace(-1, 1)"
   ]
  },
  {
   "cell_type": "code",
   "execution_count": null,
   "id": "93b420f0-a582-43f3-a978-41fe01062ee2",
   "metadata": {},
   "outputs": [
    {
     "data": {
      "text/plain": [
       "(50,)"
      ]
     },
     "execution_count": 11,
     "metadata": {},
     "output_type": "execute_result"
    }
   ],
   "source": [
    "x_scatter.shape"
   ]
  },
  {
   "cell_type": "code",
   "execution_count": null,
   "id": "b10bbc93-7c4f-4410-9f4e-e085d89c38be",
   "metadata": {},
   "outputs": [],
   "source": [
    "y_scatter = x_scatter + np.random.normal(size=x_scatter.size)"
   ]
  },
  {
   "cell_type": "code",
   "execution_count": null,
   "id": "3d589729-c6ad-4d4d-9f0b-c5ebf4b338e0",
   "metadata": {},
   "outputs": [
    {
     "data": {
      "image/png": "[encoded data removed]",
      "text/plain": [
       "<Figure size 432x288 with 1 Axes>"
      ]
     },
     "metadata": {
      "needs_background": "light"
     },
     "output_type": "display_data"
    }
   ],
   "source": [
    "plt.figure(2)\n",
    "plt.scatter(x_scatter, y_scatter)\n",
    "plt.show()\n"
   ]
  },
  {
   "cell_type": "code",
   "execution_count": null,
   "id": "f14af6d0-63c7-4f79-9604-3eea05ad41e1",
   "metadata": {},
   "outputs": [],
   "source": []
  },
  {
   "cell_type": "code",
   "execution_count": null,
   "id": "ecec3acd-e2e8-49f9-ba82-f74044dd124d",
   "metadata": {},
   "outputs": [],
   "source": []
  },
  {
   "cell_type": "markdown",
   "id": "4efcbc68-5a2f-48e6-9da9-250c8f9b66bb",
   "metadata": {
    "tags": []
   },
   "source": [
    "### 1: figures and axes"
   ]
  },
  {
   "cell_type": "code",
   "execution_count": null,
   "id": "a5f2e2d7-c535-4cfb-91e4-b66a7313bcda",
   "metadata": {},
   "outputs": [],
   "source": []
  },
  {
   "cell_type": "code",
   "execution_count": null,
   "id": "32050f26-b0b5-4df9-9d74-d42fcf2b983f",
   "metadata": {},
   "outputs": [
    {
     "data": {
      "text/plain": [
       "<Figure size 432x288 with 0 Axes>"
      ]
     },
     "execution_count": 14,
     "metadata": {},
     "output_type": "execute_result"
    },
    {
     "data": {
      "text/plain": [
       "<Figure size 432x288 with 0 Axes>"
      ]
     },
     "metadata": {},
     "output_type": "display_data"
    }
   ],
   "source": [
    "fig = plt.figure();fig"
   ]
  },
  {
   "cell_type": "code",
   "execution_count": null,
   "id": "42da511b-50e7-4aa3-8cb0-f2d3f41bdafb",
   "metadata": {},
   "outputs": [
    {
     "data": {
      "text/plain": [
       "<AxesSubplot:>"
      ]
     },
     "execution_count": 15,
     "metadata": {},
     "output_type": "execute_result"
    }
   ],
   "source": [
    "ax = fig.gca();ax #Get the current Axes"
   ]
  },
  {
   "cell_type": "code",
   "execution_count": null,
   "id": "2a452fe0-a214-40b1-a9c8-ad2922271439",
   "metadata": {},
   "outputs": [
    {
     "data": {
      "text/plain": [
       "\u001b[0;31mSignature:\u001b[0m \u001b[0mfig\u001b[0m\u001b[0;34m.\u001b[0m\u001b[0mgca\u001b[0m\u001b[0;34m(\u001b[0m\u001b[0;34m**\u001b[0m\u001b[0mkwargs\u001b[0m\u001b[0;34m)\u001b[0m\u001b[0;34m\u001b[0m\u001b[0;34m\u001b[0m\u001b[0m\n",
       "\u001b[0;31mDocstring:\u001b[0m\n",
       "Get the current Axes.\n",
       "\n",
       "If there is currently no Axes on this Figure, a new one is created\n",
       "using `.Figure.add_subplot`.  (To test whether there is currently an\n",
       "Axes on a Figure, check whether ``figure.axes`` is empty.  To test\n",
       "whether there is currently a Figure on the pyplot figure stack, check\n",
       "whether `.pyplot.get_fignums()` is empty.)\n",
       "\n",
       "The following kwargs are supported for ensuring the returned Axes\n",
       "adheres to the given projection etc., and for Axes creation if\n",
       "the active Axes does not exist:\n",
       "\n",
       "Properties:\n",
       "    adjustable: {'box', 'datalim'}\n",
       "    agg_filter: a filter function, which takes a (m, n, 3) float array and a dpi value, and returns a (m, n, 3) array\n",
       "    alpha: scalar or None\n",
       "    anchor: (float, float) or {'C', 'SW', 'S', 'SE', 'E', 'NE', ...}\n",
       "    animated: bool\n",
       "    aspect: {'auto', 'equal'} or float\n",
       "    autoscale_on: bool\n",
       "    autoscalex_on: bool\n",
       "    autoscaley_on: bool\n",
       "    axes_locator: Callable[[Axes, Renderer], Bbox]\n",
       "    axisbelow: bool or 'line'\n",
       "    box_aspect: float or None\n",
       "    clip_box: `.Bbox`\n",
       "    clip_on: bool\n",
       "    clip_path: Patch or (Path, Transform) or None\n",
       "    facecolor or fc: color\n",
       "    figure: `.Figure`\n",
       "    frame_on: bool\n",
       "    gid: str\n",
       "    in_layout: bool\n",
       "    label: object\n",
       "    navigate: bool\n",
       "    navigate_mode: unknown\n",
       "    path_effects: `.AbstractPathEffect`\n",
       "    picker: None or bool or float or callable\n",
       "    position: [left, bottom, width, height] or `~matplotlib.transforms.Bbox`\n",
       "    prop_cycle: unknown\n",
       "    rasterization_zorder: float or None\n",
       "    rasterized: bool\n",
       "    sketch_params: (scale: float, length: float, randomness: float)\n",
       "    snap: bool or None\n",
       "    title: str\n",
       "    transform: `.Transform`\n",
       "    url: str\n",
       "    visible: bool\n",
       "    xbound: unknown\n",
       "    xlabel: str\n",
       "    xlim: (bottom: float, top: float)\n",
       "    xmargin: float greater than -0.5\n",
       "    xscale: {\"linear\", \"log\", \"symlog\", \"logit\", ...} or `.ScaleBase`\n",
       "    xticklabels: unknown\n",
       "    xticks: unknown\n",
       "    ybound: unknown\n",
       "    ylabel: str\n",
       "    ylim: (bottom: float, top: float)\n",
       "    ymargin: float greater than -0.5\n",
       "    yscale: {\"linear\", \"log\", \"symlog\", \"logit\", ...} or `.ScaleBase`\n",
       "    yticklabels: unknown\n",
       "    yticks: unknown\n",
       "    zorder: float\n",
       "\u001b[0;31mFile:\u001b[0m      /usr/local/lib/python3.9/dist-packages/matplotlib/figure.py\n",
       "\u001b[0;31mType:\u001b[0m      method\n"
      ]
     },
     "metadata": {},
     "output_type": "display_data"
    }
   ],
   "source": [
    "fig.gca?"
   ]
  },
  {
   "cell_type": "code",
   "execution_count": null,
   "id": "26e7cd1d-6640-46d9-a3ac-f49a57a2ff7e",
   "metadata": {},
   "outputs": [
    {
     "data": {
      "text/plain": [
       "<AxesSubplot:>"
      ]
     },
     "execution_count": 17,
     "metadata": {},
     "output_type": "execute_result"
    }
   ],
   "source": [
    "ax"
   ]
  },
  {
   "cell_type": "code",
   "execution_count": null,
   "id": "9d374c2e-d98d-446b-b0c5-17393d62705c",
   "metadata": {},
   "outputs": [
    {
     "data": {
      "text/plain": [
       "[<matplotlib.lines.Line2D at 0x7faa96d34310>]"
      ]
     },
     "execution_count": 18,
     "metadata": {},
     "output_type": "execute_result"
    }
   ],
   "source": [
    "ax.plot(x_curve, y_curve)"
   ]
  },
  {
   "cell_type": "code",
   "execution_count": null,
   "id": "9c83866a-c0e4-498e-9688-b111e9958f70",
   "metadata": {},
   "outputs": [],
   "source": []
  },
  {
   "cell_type": "code",
   "execution_count": null,
   "id": "f209e3d4-d977-4b06-862b-41da62a313e0",
   "metadata": {},
   "outputs": [],
   "source": []
  },
  {
   "cell_type": "code",
   "execution_count": null,
   "id": "b40cb0dc-cd35-485b-9737-5cc0fc6b4b66",
   "metadata": {},
   "outputs": [],
   "source": []
  },
  {
   "cell_type": "code",
   "execution_count": null,
   "id": "ec2832b8-0770-4174-97d4-2baf0745678a",
   "metadata": {},
   "outputs": [
    {
     "data": {
      "image/png": "[encoded data removed]",
      "text/plain": [
       "<Figure size 432x288 with 1 Axes>"
      ]
     },
     "metadata": {
      "needs_background": "light"
     },
     "output_type": "display_data"
    }
   ],
   "source": [
    "fig, ax = plt.subplots()"
   ]
  },
  {
   "cell_type": "code",
   "execution_count": null,
   "id": "a7cf1a98-4fac-4924-aece-361bb41a36b8",
   "metadata": {},
   "outputs": [
    {
     "data": {
      "text/plain": [
       "[<matplotlib.lines.Line2D at 0x7faa96d032e0>]"
      ]
     },
     "execution_count": 20,
     "metadata": {},
     "output_type": "execute_result"
    }
   ],
   "source": [
    "ax.plot([1, 2, 3, 4], [1, 2, 3, 4])"
   ]
  },
  {
   "cell_type": "code",
   "execution_count": null,
   "id": "f65eecac-f4b8-45b6-8b61-53ce70c48f6f",
   "metadata": {},
   "outputs": [
    {
     "data": {
      "image/png": "[encoded data removed]",
      "text/plain": [
       "<Figure size 432x288 with 2 Axes>"
      ]
     },
     "metadata": {
      "needs_background": "light"
     },
     "output_type": "display_data"
    }
   ],
   "source": [
    "fig2, ax2 = plt.subplots(2)"
   ]
  },
  {
   "cell_type": "code",
   "execution_count": null,
   "id": "ec30dc72-18ee-49bb-8e3f-8d2ef3916711",
   "metadata": {},
   "outputs": [
    {
     "data": {
      "text/plain": [
       "[<matplotlib.lines.Line2D at 0x7faa97623e50>]"
      ]
     },
     "execution_count": 22,
     "metadata": {},
     "output_type": "execute_result"
    }
   ],
   "source": [
    "ax2[0].plot([1, 2, 3, 4], [1, 2, 3, 4])"
   ]
  },
  {
   "cell_type": "code",
   "execution_count": null,
   "id": "ca361d0d-7b96-45aa-a1e0-f0447a513809",
   "metadata": {},
   "outputs": [
    {
     "data": {
      "text/plain": [
       "[<matplotlib.lines.Line2D at 0x7faa96c3ba30>]"
      ]
     },
     "execution_count": 23,
     "metadata": {},
     "output_type": "execute_result"
    }
   ],
   "source": [
    "ax2[0].plot([1, 2, 3, 4], [1, 4, 9, 16])"
   ]
  },
  {
   "cell_type": "code",
   "execution_count": null,
   "id": "190fdc35-f3ba-450e-a012-28e653a9310b",
   "metadata": {},
   "outputs": [
    {
     "data": {
      "image/png": "[encoded data removed]",
      "text/plain": [
       "<Figure size 432x288 with 2 Axes>"
      ]
     },
     "execution_count": 24,
     "metadata": {},
     "output_type": "execute_result"
    }
   ],
   "source": [
    "\n",
    "\n",
    "\n",
    "\n",
    "\n",
    "fig2"
   ]
  },
  {
   "cell_type": "code",
   "execution_count": null,
   "id": "bed5c6a2-08a7-44f1-b4b0-9a8e0fa118d8",
   "metadata": {},
   "outputs": [
    {
     "data": {
      "text/plain": [
       "[<matplotlib.lines.Line2D at 0x7faa96c5d250>]"
      ]
     },
     "execution_count": 25,
     "metadata": {},
     "output_type": "execute_result"
    }
   ],
   "source": [
    "ax2[1].plot([1, 2, 3, 4], [1,1,1,1])"
   ]
  },
  {
   "cell_type": "code",
   "execution_count": null,
   "id": "97f11607-38c3-437a-87a5-2d457a3ca881",
   "metadata": {},
   "outputs": [],
   "source": []
  },
  {
   "cell_type": "code",
   "execution_count": null,
   "id": "d63c9a0f-ceca-41cc-8c3e-448ec04ab304",
   "metadata": {},
   "outputs": [],
   "source": [
    "x = np.linspace(-6, 6, 500)\n",
    "y = np.sinc(x)"
   ]
  },
  {
   "cell_type": "code",
   "execution_count": null,
   "id": "4d351e7c-95eb-4879-a4bf-f1df76ee8a38",
   "metadata": {},
   "outputs": [
    {
     "data": {
      "image/png": "[encoded data removed]",
      "text/plain": [
       "<Figure size 432x288 with 1 Axes>"
      ]
     },
     "metadata": {
      "needs_background": "light"
     },
     "output_type": "display_data"
    }
   ],
   "source": [
    "fig, ax = plt.subplots()"
   ]
  },
  {
   "cell_type": "code",
   "execution_count": null,
   "id": "038300e7-521f-404f-b236-743fbc3ba572",
   "metadata": {},
   "outputs": [
    {
     "data": {
      "image/png": "[encoded data removed]",
      "text/plain": [
       "<Figure size 432x288 with 1 Axes>"
      ]
     },
     "metadata": {
      "needs_background": "light"
     },
     "output_type": "display_data"
    }
   ],
   "source": [
    "plt.plot(x, y, linewidth=15);"
   ]
  },
  {
   "cell_type": "code",
   "execution_count": null,
   "id": "055d14d9-a051-41df-9474-54052786fae3",
   "metadata": {},
   "outputs": [],
   "source": [
    "ax.plot(x, y+2, linewidth=15);"
   ]
  },
  {
   "cell_type": "code",
   "execution_count": null,
   "id": "b603a43b-37da-4f28-98ef-cb9cc8810363",
   "metadata": {},
   "outputs": [
    {
     "data": {
      "text/plain": [
       "<matplotlib.collections.PathCollection at 0x7faa96ba5b50>"
      ]
     },
     "execution_count": 30,
     "metadata": {},
     "output_type": "execute_result"
    }
   ],
   "source": [
    "ax.scatter(1, 1)"
   ]
  },
  {
   "cell_type": "code",
   "execution_count": null,
   "id": "54fd6e9d-792b-4a95-9048-72ac644d5683",
   "metadata": {},
   "outputs": [
    {
     "data": {
      "image/png": "[encoded data removed]",
      "text/plain": [
       "<Figure size 432x288 with 1 Axes>"
      ]
     },
     "execution_count": 31,
     "metadata": {},
     "output_type": "execute_result"
    }
   ],
   "source": [
    "fig"
   ]
  },
  {
   "cell_type": "code",
   "execution_count": null,
   "id": "812ab4c7-bbb7-4ad1-8230-03fe45bc296a",
   "metadata": {},
   "outputs": [
    {
     "data": {
      "text/plain": [
       "<module 'matplotlib.pyplot' from '/usr/local/lib/python3.9/dist-packages/matplotlib/pyplot.py'>"
      ]
     },
     "execution_count": 32,
     "metadata": {},
     "output_type": "execute_result"
    }
   ],
   "source": [
    "plt"
   ]
  },
  {
   "cell_type": "code",
   "execution_count": null,
   "id": "3089146e-3f26-4c32-bdeb-8dbd936d85e6",
   "metadata": {},
   "outputs": [
    {
     "data": {
      "image/png": "[encoded data removed]",
      "text/plain": [
       "<Figure size 432x288 with 1 Axes>"
      ]
     },
     "execution_count": 33,
     "metadata": {},
     "output_type": "execute_result"
    }
   ],
   "source": [
    "ax.plot(x, y, color='pink', linewidth=5);fig"
   ]
  },
  {
   "cell_type": "code",
   "execution_count": null,
   "id": "80faa4e6-3354-4cf4-8522-3425072d55ea",
   "metadata": {},
   "outputs": [
    {
     "ename": "ValueError",
     "evalue": "array([ 6.        ,  5.97193159,  5.94385371,  5.91578926,  5.8877612 ,\n        5.8597925 ,  5.83190599,  5.80412418,  5.77646922,  5.74896269,\n        5.72162551,  5.69447785,  5.66753894,  5.64082699,  5.6143591 ,\n        5.58815113,  5.56221758,  5.53657155,  5.51122462,  5.48618677,\n        5.46146632,  5.43706986,  5.41300223,  5.38926643,  5.36586362,\n        5.34279309,  5.32005225,  5.2976366 ,  5.27553979,  5.25375361,\n        5.232268  ,  5.21107114,  5.19014944,  5.16948767,  5.14906895,\n        5.12887492,  5.10888574,  5.08908025,  5.06943606,  5.04992964,\n        5.03053649,  5.0112312 ,  4.99198766,  4.97277914,  4.95357848,\n        4.93435817,  4.91509059,  4.89574809,  4.87630318,  4.85672867,\n        4.83699785,  4.81708461,  4.7969636 ,  4.77661039,  4.75600163,\n        4.73511515,  4.71393011,  4.69242718,  4.67058856,  4.64839821,\n        4.62584185,  4.60290715,  4.57958377,  4.55586342,  4.53173997,\n        4.5072095 ,  4.48227033,  4.45692304,  4.43117052,  4.40501796,\n        4.37847288,  4.35154505,  4.32424651,  4.29659152,  4.26859648,\n        4.24027991,  4.21166231,  4.18276613,  4.15361561,  4.12423672,\n        4.094657  ,  4.06490542,  4.03501227,  4.00500899,  3.974928  ,\n        3.94480254,  3.91466651,  3.88455426,  3.85450044,  3.82453979,\n        3.79470696,  3.76503632,  3.73556174,  3.70631644,  3.67733279,\n        3.64864208,  3.6202744 ,  3.59225839,  3.56462114,  3.53738796,\n        3.51058225,  3.48422534,  3.45833635,  3.43293204,  3.40802672,\n        3.38363212,  3.35975729,  3.33640851,  3.31358926,  3.2913001 ,\n        3.26953867,  3.24829968,  3.22757483,  3.20735289,  3.18761968,\n        3.1683581 ,  3.14954822,  3.1311673 ,  3.11318992,  3.09558804,\n        3.07833113,  3.06138631,  3.04471847,  3.02829044,  3.01206317,\n        2.99599589,  2.9800463 ,  2.9641708 ,  2.9483247 ,  2.93246239,\n        2.91653766,  2.90050386,  2.88431416,  2.86792183,  2.85128044,\n        2.83434416,  2.81706795,  2.79940788,  2.78132133,  2.76276726,\n        2.74370644,  2.72410169,  2.70391809,  2.68312326,  2.66168749,\n        2.63958399,  2.61678908,  2.59328235,  2.56904683,  2.54406912,\n        2.51833955,  2.49185229,  2.46460541,  2.43660104,  2.40784533,\n        2.37834859,  2.34812523,  2.31719383,  2.28557709,  2.25330178,\n        2.22039873,  2.18690269,  2.15285231,  2.11828994,  2.08326155,\n        2.04781655,  2.01200763,  1.97589054,  1.93952394,  1.90296908,\n        1.86628967,  1.82955151,  1.79282232,  1.7561714 ,  1.71966936,\n        1.68338779,  1.64739898,  1.61177561,  1.57659037,  1.5419157 ,\n        1.50782339,  1.47438432,  1.44166806,  1.40974258,  1.37867392,\n        1.34852583,  1.31935952,  1.29123328,  1.26420222,  1.23831798,\n        1.21362844,  1.19017747,  1.16800466,  1.14714514,  1.12762928,\n        1.10948257,  1.09272542,  1.07737299,  1.06343505,  1.05091589,\n        1.03981424,  1.03012315,  1.02183001,  1.01491646,  1.00935847,\n        1.00512633,  1.0021847 ,  1.0004927 ,  1.00000401,  1.00066701,\n        1.00242492,  1.00521596,  1.00897357,  1.01362663,  1.01909968,\n        1.02531319,  1.03218385,  1.03962482,  1.04754613,  1.05585492,\n        1.06445583,  1.07325135,  1.08214217,  1.09102759,  1.09980586,\n        1.10837459,  1.11663118,  1.12447316,  1.13179861,  1.13850659,\n        1.1444975 ,  1.14967349,  1.15393883,  1.15720031,  1.15936763,\n        1.16035371,  1.16007506,  1.15845215,  1.15540967,  1.15087689,\n        1.1447879 ,  1.13708191,  1.12770348,  1.11660274,  1.10373561,\n        1.08906396,  1.07255579,  1.05418532,  1.03393313,  1.01178624,\n        0.98773815,  0.96178884,  0.93394483,  0.90421911,  0.8726311 ,\n        0.83920655,  0.80397749,  0.76698204,  0.72826428,  0.68787407,\n        0.64586687,  0.60230346,  0.55724974,  0.51077646,  0.46295892,\n        0.41387665,  0.36361314,  0.31225546,  0.25989393,  0.20662175,\n        0.15253465,  0.09773048,  0.04230883, -0.01362934, -0.06998212,\n       -0.12664705, -0.18352151, -0.24050312, -0.29749013, -0.35438184,\n       -0.41107895, -0.46748393, -0.52350143, -0.5790386 , -0.63400544,\n       -0.68831515, -0.74188439, -0.79463364, -0.84648745, -0.89737468,\n       -0.94722878, -0.99598797, -1.04359548, -1.08999967, -1.13515423,\n       -1.17901828, -1.22155649, -1.26273913, -1.30254218, -1.34094728,\n       -1.37794182, -1.41351886, -1.44767711, -1.48042087, -1.51175991,\n       -1.5417094 , -1.57028973, -1.5975264 , -1.62344979, -1.64809501,\n       -1.67150166, -1.69371361, -1.71477875, -1.7347487 , -1.75367858,\n       -1.77162669, -1.78865421, -1.80482493, -1.82020486, -1.83486198,\n       -1.84886587, -1.86228738, -1.87519834, -1.88767116, -1.89977855,\n       -1.91159317, -1.92318731, -1.93463259, -1.94599959, -1.95735763,\n       -1.9687744 , -1.98031574, -1.99204533, -2.00402444, -2.01631171,\n       -2.0289629 , -2.0420307 , -2.05556452, -2.06961033, -2.08421049,\n       -2.09940363, -2.11522452, -2.13170397, -2.14886876, -2.16674159,\n       -2.18534104, -2.20468153, -2.22477334, -2.24562266, -2.26723159,\n       -2.28959822, -2.3127167 , -2.33657737, -2.36116683, -2.38646811,\n       -2.41246081, -2.43912123, -2.46642259, -2.49433519, -2.52282662,\n       -2.551862  , -2.58140412, -2.61141376, -2.64184989, -2.67266987,\n       -2.70382978, -2.73528458, -2.76698844, -2.79889494, -2.83095733,\n       -2.86312879, -2.89536268, -2.92761276, -2.95983346, -2.99198006,\n       -3.02400897, -3.05587789, -3.08754606, -3.11897441, -3.15012578,\n       -3.18096507, -3.21145938, -3.24157819, -3.27129346, -3.30057977,\n       -3.32941439, -3.35777737, -3.38565162, -3.41302297, -3.43988016,\n       -3.46621493, -3.49202196, -3.5172989 , -3.54204632, -3.56626768,\n       -3.58996927, -3.61316015, -3.63585203, -3.65805923, -3.67979851,\n       -3.70108899, -3.72195201, -3.74241095, -3.76249114, -3.78221964,\n       -3.80162513, -3.82073766, -3.83958856, -3.85821018, -3.87663572,\n       -3.89489909, -3.91303463, -3.931077  , -3.94906095, -3.96702111,\n       -3.98499184, -4.00300704, -4.02109995, -4.039303  , -4.05764761,\n       -4.07616408, -4.09488138, -4.11382706, -4.13302707, -4.15250566,\n       -4.17228528, -4.19238644, -4.21282764, -4.23362529, -4.25479365,\n       -4.27634476, -4.2982884 , -4.32063207, -4.34338097, -4.36653799,\n       -4.39010372, -4.41407646, -4.43845231, -4.46322511, -4.48838661,\n       -4.51392644, -4.53983228, -4.56608986, -4.59268311, -4.61959427,\n       -4.64680398, -4.67429141, -4.7020344 , -4.73000958, -4.75819253,\n       -4.7865579 , -4.81507959, -4.84373087, -4.87248456, -4.90131317,\n       -4.93018906, -4.95908458, -4.98797226, -5.01682491, -5.04561582,\n       -5.07431885, -5.10290863, -5.13136063, -5.15965133, -5.18775835,\n       -5.2156605 , -5.24333798, -5.2707724 , -5.2979469 , -5.32484623,\n       -5.35145681, -5.37776682, -5.40376621, -5.42944675, -5.4548021 ,\n       -5.47982776, -5.50452114, -5.52888154, -5.5529101 , -5.57660983,\n       -5.59998557, -5.62304391, -5.64579317, -5.66824334, -5.69040599,\n       -5.71229421, -5.73392251, -5.75530676, -5.77646403, -5.79741256,\n       -5.81817158, -5.83876124, -5.85920247, -5.87951686, -5.89972653,\n       -5.91985403, -5.93992217, -5.9599539 , -5.97997222, -6.        ]) is not a valid value for color",
     "output_type": "error",
     "traceback": [
      "\u001b[0;31m---------------------------------------------------------------------------\u001b[0m",
      "\u001b[0;31mValueError\u001b[0m                                Traceback (most recent call last)",
      "Input \u001b[0;32mIn [34]\u001b[0m, in \u001b[0;36m<cell line: 2>\u001b[0;34m()\u001b[0m\n\u001b[1;32m      1\u001b[0m ax\u001b[38;5;241m.\u001b[39mplot(x, y, linewidth\u001b[38;5;241m=\u001b[39m\u001b[38;5;241m4\u001b[39m)\n\u001b[0;32m----> 2\u001b[0m \u001b[43max\u001b[49m\u001b[38;5;241;43m.\u001b[39;49m\u001b[43mplot\u001b[49m\u001b[43m(\u001b[49m\u001b[43mx\u001b[49m\u001b[43m,\u001b[49m\u001b[43m \u001b[49m\u001b[43my\u001b[49m\u001b[43m \u001b[49m\u001b[38;5;241;43m+\u001b[39;49m\u001b[43m \u001b[49m\u001b[38;5;241;43m.1\u001b[39;49m\u001b[43m,\u001b[49m\u001b[43m \u001b[49m\u001b[43mlinewidth\u001b[49m\u001b[38;5;241;43m=\u001b[39;49m\u001b[38;5;241;43m2\u001b[39;49m\u001b[43m,\u001b[49m\u001b[43m \u001b[49m\u001b[43mc\u001b[49m\u001b[38;5;241;43m=\u001b[39;49m\u001b[43my\u001b[49m\u001b[38;5;241;43m-\u001b[39;49m\u001b[43mx\u001b[49m\u001b[43m)\u001b[49m\n\u001b[1;32m      3\u001b[0m ax\u001b[38;5;241m.\u001b[39mplot(x, y \u001b[38;5;241m+\u001b[39m \u001b[38;5;241m.2\u001b[39m, linewidth\u001b[38;5;241m=\u001b[39m\u001b[38;5;241m1\u001b[39m)\n\u001b[1;32m      4\u001b[0m ax\u001b[38;5;241m.\u001b[39mplot(x, y \u001b[38;5;241m+\u001b[39m \u001b[38;5;241m.3\u001b[39m, linewidth\u001b[38;5;241m=\u001b[39m\u001b[38;5;241m.5\u001b[39m)\n",
      "File \u001b[0;32m/usr/local/lib/python3.9/dist-packages/matplotlib/axes/_axes.py:1632\u001b[0m, in \u001b[0;36mAxes.plot\u001b[0;34m(self, scalex, scaley, data, *args, **kwargs)\u001b[0m\n\u001b[1;32m   1390\u001b[0m \u001b[38;5;124;03m\"\"\"\u001b[39;00m\n\u001b[1;32m   1391\u001b[0m \u001b[38;5;124;03mPlot y versus x as lines and/or markers.\u001b[39;00m\n\u001b[1;32m   1392\u001b[0m \n\u001b[0;32m   (...)\u001b[0m\n\u001b[1;32m   1629\u001b[0m \u001b[38;5;124;03m(``'green'``) or hex strings (``'#008000'``).\u001b[39;00m\n\u001b[1;32m   1630\u001b[0m \u001b[38;5;124;03m\"\"\"\u001b[39;00m\n\u001b[1;32m   1631\u001b[0m kwargs \u001b[38;5;241m=\u001b[39m cbook\u001b[38;5;241m.\u001b[39mnormalize_kwargs(kwargs, mlines\u001b[38;5;241m.\u001b[39mLine2D)\n\u001b[0;32m-> 1632\u001b[0m lines \u001b[38;5;241m=\u001b[39m [\u001b[38;5;241m*\u001b[39m\u001b[38;5;28mself\u001b[39m\u001b[38;5;241m.\u001b[39m_get_lines(\u001b[38;5;241m*\u001b[39margs, data\u001b[38;5;241m=\u001b[39mdata, \u001b[38;5;241m*\u001b[39m\u001b[38;5;241m*\u001b[39mkwargs)]\n\u001b[1;32m   1633\u001b[0m \u001b[38;5;28;01mfor\u001b[39;00m line \u001b[38;5;129;01min\u001b[39;00m lines:\n\u001b[1;32m   1634\u001b[0m     \u001b[38;5;28mself\u001b[39m\u001b[38;5;241m.\u001b[39madd_line(line)\n",
      "File \u001b[0;32m/usr/local/lib/python3.9/dist-packages/matplotlib/axes/_base.py:312\u001b[0m, in \u001b[0;36m_process_plot_var_args.__call__\u001b[0;34m(self, data, *args, **kwargs)\u001b[0m\n\u001b[1;32m    310\u001b[0m     this \u001b[38;5;241m+\u001b[39m\u001b[38;5;241m=\u001b[39m args[\u001b[38;5;241m0\u001b[39m],\n\u001b[1;32m    311\u001b[0m     args \u001b[38;5;241m=\u001b[39m args[\u001b[38;5;241m1\u001b[39m:]\n\u001b[0;32m--> 312\u001b[0m \u001b[38;5;28;01myield from\u001b[39;00m \u001b[38;5;28;43mself\u001b[39;49m\u001b[38;5;241;43m.\u001b[39;49m\u001b[43m_plot_args\u001b[49m\u001b[43m(\u001b[49m\u001b[43mthis\u001b[49m\u001b[43m,\u001b[49m\u001b[43m \u001b[49m\u001b[43mkwargs\u001b[49m\u001b[43m)\u001b[49m\n",
      "File \u001b[0;32m/usr/local/lib/python3.9/dist-packages/matplotlib/axes/_base.py:538\u001b[0m, in \u001b[0;36m_process_plot_var_args._plot_args\u001b[0;34m(self, tup, kwargs, return_kwargs)\u001b[0m\n\u001b[1;32m    536\u001b[0m     \u001b[38;5;28;01mreturn\u001b[39;00m \u001b[38;5;28mlist\u001b[39m(result)\n\u001b[1;32m    537\u001b[0m \u001b[38;5;28;01melse\u001b[39;00m:\n\u001b[0;32m--> 538\u001b[0m     \u001b[38;5;28;01mreturn\u001b[39;00m [l[\u001b[38;5;241m0\u001b[39m] \u001b[38;5;28;01mfor\u001b[39;00m l \u001b[38;5;129;01min\u001b[39;00m result]\n",
      "File \u001b[0;32m/usr/local/lib/python3.9/dist-packages/matplotlib/axes/_base.py:538\u001b[0m, in \u001b[0;36m<listcomp>\u001b[0;34m(.0)\u001b[0m\n\u001b[1;32m    536\u001b[0m     \u001b[38;5;28;01mreturn\u001b[39;00m \u001b[38;5;28mlist\u001b[39m(result)\n\u001b[1;32m    537\u001b[0m \u001b[38;5;28;01melse\u001b[39;00m:\n\u001b[0;32m--> 538\u001b[0m     \u001b[38;5;28;01mreturn\u001b[39;00m [l[\u001b[38;5;241m0\u001b[39m] \u001b[38;5;28;01mfor\u001b[39;00m l \u001b[38;5;129;01min\u001b[39;00m result]\n",
      "File \u001b[0;32m/usr/local/lib/python3.9/dist-packages/matplotlib/axes/_base.py:531\u001b[0m, in \u001b[0;36m<genexpr>\u001b[0;34m(.0)\u001b[0m\n\u001b[1;32m    528\u001b[0m \u001b[38;5;28;01melse\u001b[39;00m:\n\u001b[1;32m    529\u001b[0m     labels \u001b[38;5;241m=\u001b[39m [label] \u001b[38;5;241m*\u001b[39m n_datasets\n\u001b[0;32m--> 531\u001b[0m result \u001b[38;5;241m=\u001b[39m (\u001b[43mmake_artist\u001b[49m\u001b[43m(\u001b[49m\u001b[43mx\u001b[49m\u001b[43m[\u001b[49m\u001b[43m:\u001b[49m\u001b[43m,\u001b[49m\u001b[43m \u001b[49m\u001b[43mj\u001b[49m\u001b[43m \u001b[49m\u001b[38;5;241;43m%\u001b[39;49m\u001b[43m \u001b[49m\u001b[43mncx\u001b[49m\u001b[43m]\u001b[49m\u001b[43m,\u001b[49m\u001b[43m \u001b[49m\u001b[43my\u001b[49m\u001b[43m[\u001b[49m\u001b[43m:\u001b[49m\u001b[43m,\u001b[49m\u001b[43m \u001b[49m\u001b[43mj\u001b[49m\u001b[43m \u001b[49m\u001b[38;5;241;43m%\u001b[39;49m\u001b[43m \u001b[49m\u001b[43mncy\u001b[49m\u001b[43m]\u001b[49m\u001b[43m,\u001b[49m\u001b[43m \u001b[49m\u001b[43mkw\u001b[49m\u001b[43m,\u001b[49m\n\u001b[1;32m    532\u001b[0m \u001b[43m                      \u001b[49m\u001b[43m{\u001b[49m\u001b[38;5;241;43m*\u001b[39;49m\u001b[38;5;241;43m*\u001b[39;49m\u001b[43mkwargs\u001b[49m\u001b[43m,\u001b[49m\u001b[43m \u001b[49m\u001b[38;5;124;43m'\u001b[39;49m\u001b[38;5;124;43mlabel\u001b[39;49m\u001b[38;5;124;43m'\u001b[39;49m\u001b[43m:\u001b[49m\u001b[43m \u001b[49m\u001b[43mlabel\u001b[49m\u001b[43m}\u001b[49m\u001b[43m)\u001b[49m\n\u001b[1;32m    533\u001b[0m           \u001b[38;5;28;01mfor\u001b[39;00m j, label \u001b[38;5;129;01min\u001b[39;00m \u001b[38;5;28menumerate\u001b[39m(labels))\n\u001b[1;32m    535\u001b[0m \u001b[38;5;28;01mif\u001b[39;00m return_kwargs:\n\u001b[1;32m    536\u001b[0m     \u001b[38;5;28;01mreturn\u001b[39;00m \u001b[38;5;28mlist\u001b[39m(result)\n",
      "File \u001b[0;32m/usr/local/lib/python3.9/dist-packages/matplotlib/axes/_base.py:351\u001b[0m, in \u001b[0;36m_process_plot_var_args._makeline\u001b[0;34m(self, x, y, kw, kwargs)\u001b[0m\n\u001b[1;32m    349\u001b[0m default_dict \u001b[38;5;241m=\u001b[39m \u001b[38;5;28mself\u001b[39m\u001b[38;5;241m.\u001b[39m_getdefaults(\u001b[38;5;28mset\u001b[39m(), kw)\n\u001b[1;32m    350\u001b[0m \u001b[38;5;28mself\u001b[39m\u001b[38;5;241m.\u001b[39m_setdefaults(default_dict, kw)\n\u001b[0;32m--> 351\u001b[0m seg \u001b[38;5;241m=\u001b[39m \u001b[43mmlines\u001b[49m\u001b[38;5;241;43m.\u001b[39;49m\u001b[43mLine2D\u001b[49m\u001b[43m(\u001b[49m\u001b[43mx\u001b[49m\u001b[43m,\u001b[49m\u001b[43m \u001b[49m\u001b[43my\u001b[49m\u001b[43m,\u001b[49m\u001b[43m \u001b[49m\u001b[38;5;241;43m*\u001b[39;49m\u001b[38;5;241;43m*\u001b[39;49m\u001b[43mkw\u001b[49m\u001b[43m)\u001b[49m\n\u001b[1;32m    352\u001b[0m \u001b[38;5;28;01mreturn\u001b[39;00m seg, kw\n",
      "File \u001b[0;32m/usr/local/lib/python3.9/dist-packages/matplotlib/lines.py:370\u001b[0m, in \u001b[0;36mLine2D.__init__\u001b[0;34m(self, xdata, ydata, linewidth, linestyle, color, marker, markersize, markeredgewidth, markeredgecolor, markerfacecolor, markerfacecoloralt, fillstyle, antialiased, dash_capstyle, solid_capstyle, dash_joinstyle, solid_joinstyle, pickradius, drawstyle, markevery, **kwargs)\u001b[0m\n\u001b[1;32m    367\u001b[0m \u001b[38;5;28mself\u001b[39m\u001b[38;5;241m.\u001b[39mset_drawstyle(drawstyle)\n\u001b[1;32m    369\u001b[0m \u001b[38;5;28mself\u001b[39m\u001b[38;5;241m.\u001b[39m_color \u001b[38;5;241m=\u001b[39m \u001b[38;5;28;01mNone\u001b[39;00m\n\u001b[0;32m--> 370\u001b[0m \u001b[38;5;28;43mself\u001b[39;49m\u001b[38;5;241;43m.\u001b[39;49m\u001b[43mset_color\u001b[49m\u001b[43m(\u001b[49m\u001b[43mcolor\u001b[49m\u001b[43m)\u001b[49m\n\u001b[1;32m    371\u001b[0m \u001b[38;5;28mself\u001b[39m\u001b[38;5;241m.\u001b[39m_marker \u001b[38;5;241m=\u001b[39m MarkerStyle(marker, fillstyle)\n\u001b[1;32m    373\u001b[0m \u001b[38;5;28mself\u001b[39m\u001b[38;5;241m.\u001b[39m_markevery \u001b[38;5;241m=\u001b[39m \u001b[38;5;28;01mNone\u001b[39;00m\n",
      "File \u001b[0;32m/usr/local/lib/python3.9/dist-packages/matplotlib/lines.py:1030\u001b[0m, in \u001b[0;36mLine2D.set_color\u001b[0;34m(self, color)\u001b[0m\n\u001b[1;32m   1022\u001b[0m \u001b[38;5;28;01mdef\u001b[39;00m \u001b[38;5;21mset_color\u001b[39m(\u001b[38;5;28mself\u001b[39m, color):\n\u001b[1;32m   1023\u001b[0m     \u001b[38;5;124;03m\"\"\"\u001b[39;00m\n\u001b[1;32m   1024\u001b[0m \u001b[38;5;124;03m    Set the color of the line.\u001b[39;00m\n\u001b[1;32m   1025\u001b[0m \n\u001b[0;32m   (...)\u001b[0m\n\u001b[1;32m   1028\u001b[0m \u001b[38;5;124;03m    color : color\u001b[39;00m\n\u001b[1;32m   1029\u001b[0m \u001b[38;5;124;03m    \"\"\"\u001b[39;00m\n\u001b[0;32m-> 1030\u001b[0m     \u001b[43mmcolors\u001b[49m\u001b[38;5;241;43m.\u001b[39;49m\u001b[43m_check_color_like\u001b[49m\u001b[43m(\u001b[49m\u001b[43mcolor\u001b[49m\u001b[38;5;241;43m=\u001b[39;49m\u001b[43mcolor\u001b[49m\u001b[43m)\u001b[49m\n\u001b[1;32m   1031\u001b[0m     \u001b[38;5;28mself\u001b[39m\u001b[38;5;241m.\u001b[39m_color \u001b[38;5;241m=\u001b[39m color\n\u001b[1;32m   1032\u001b[0m     \u001b[38;5;28mself\u001b[39m\u001b[38;5;241m.\u001b[39mstale \u001b[38;5;241m=\u001b[39m \u001b[38;5;28;01mTrue\u001b[39;00m\n",
      "File \u001b[0;32m/usr/local/lib/python3.9/dist-packages/matplotlib/colors.py:130\u001b[0m, in \u001b[0;36m_check_color_like\u001b[0;34m(**kwargs)\u001b[0m\n\u001b[1;32m    128\u001b[0m \u001b[38;5;28;01mfor\u001b[39;00m k, v \u001b[38;5;129;01min\u001b[39;00m kwargs\u001b[38;5;241m.\u001b[39mitems():\n\u001b[1;32m    129\u001b[0m     \u001b[38;5;28;01mif\u001b[39;00m \u001b[38;5;129;01mnot\u001b[39;00m is_color_like(v):\n\u001b[0;32m--> 130\u001b[0m         \u001b[38;5;28;01mraise\u001b[39;00m \u001b[38;5;167;01mValueError\u001b[39;00m(\u001b[38;5;124mf\u001b[39m\u001b[38;5;124m\"\u001b[39m\u001b[38;5;132;01m{\u001b[39;00mv\u001b[38;5;132;01m!r}\u001b[39;00m\u001b[38;5;124m is not a valid value for \u001b[39m\u001b[38;5;132;01m{\u001b[39;00mk\u001b[38;5;132;01m}\u001b[39;00m\u001b[38;5;124m\"\u001b[39m)\n",
      "\u001b[0;31mValueError\u001b[0m: array([ 6.        ,  5.97193159,  5.94385371,  5.91578926,  5.8877612 ,\n        5.8597925 ,  5.83190599,  5.80412418,  5.77646922,  5.74896269,\n        5.72162551,  5.69447785,  5.66753894,  5.64082699,  5.6143591 ,\n        5.58815113,  5.56221758,  5.53657155,  5.51122462,  5.48618677,\n        5.46146632,  5.43706986,  5.41300223,  5.38926643,  5.36586362,\n        5.34279309,  5.32005225,  5.2976366 ,  5.27553979,  5.25375361,\n        5.232268  ,  5.21107114,  5.19014944,  5.16948767,  5.14906895,\n        5.12887492,  5.10888574,  5.08908025,  5.06943606,  5.04992964,\n        5.03053649,  5.0112312 ,  4.99198766,  4.97277914,  4.95357848,\n        4.93435817,  4.91509059,  4.89574809,  4.87630318,  4.85672867,\n        4.83699785,  4.81708461,  4.7969636 ,  4.77661039,  4.75600163,\n        4.73511515,  4.71393011,  4.69242718,  4.67058856,  4.64839821,\n        4.62584185,  4.60290715,  4.57958377,  4.55586342,  4.53173997,\n        4.5072095 ,  4.48227033,  4.45692304,  4.43117052,  4.40501796,\n        4.37847288,  4.35154505,  4.32424651,  4.29659152,  4.26859648,\n        4.24027991,  4.21166231,  4.18276613,  4.15361561,  4.12423672,\n        4.094657  ,  4.06490542,  4.03501227,  4.00500899,  3.974928  ,\n        3.94480254,  3.91466651,  3.88455426,  3.85450044,  3.82453979,\n        3.79470696,  3.76503632,  3.73556174,  3.70631644,  3.67733279,\n        3.64864208,  3.6202744 ,  3.59225839,  3.56462114,  3.53738796,\n        3.51058225,  3.48422534,  3.45833635,  3.43293204,  3.40802672,\n        3.38363212,  3.35975729,  3.33640851,  3.31358926,  3.2913001 ,\n        3.26953867,  3.24829968,  3.22757483,  3.20735289,  3.18761968,\n        3.1683581 ,  3.14954822,  3.1311673 ,  3.11318992,  3.09558804,\n        3.07833113,  3.06138631,  3.04471847,  3.02829044,  3.01206317,\n        2.99599589,  2.9800463 ,  2.9641708 ,  2.9483247 ,  2.93246239,\n        2.91653766,  2.90050386,  2.88431416,  2.86792183,  2.85128044,\n        2.83434416,  2.81706795,  2.79940788,  2.78132133,  2.76276726,\n        2.74370644,  2.72410169,  2.70391809,  2.68312326,  2.66168749,\n        2.63958399,  2.61678908,  2.59328235,  2.56904683,  2.54406912,\n        2.51833955,  2.49185229,  2.46460541,  2.43660104,  2.40784533,\n        2.37834859,  2.34812523,  2.31719383,  2.28557709,  2.25330178,\n        2.22039873,  2.18690269,  2.15285231,  2.11828994,  2.08326155,\n        2.04781655,  2.01200763,  1.97589054,  1.93952394,  1.90296908,\n        1.86628967,  1.82955151,  1.79282232,  1.7561714 ,  1.71966936,\n        1.68338779,  1.64739898,  1.61177561,  1.57659037,  1.5419157 ,\n        1.50782339,  1.47438432,  1.44166806,  1.40974258,  1.37867392,\n        1.34852583,  1.31935952,  1.29123328,  1.26420222,  1.23831798,\n        1.21362844,  1.19017747,  1.16800466,  1.14714514,  1.12762928,\n        1.10948257,  1.09272542,  1.07737299,  1.06343505,  1.05091589,\n        1.03981424,  1.03012315,  1.02183001,  1.01491646,  1.00935847,\n        1.00512633,  1.0021847 ,  1.0004927 ,  1.00000401,  1.00066701,\n        1.00242492,  1.00521596,  1.00897357,  1.01362663,  1.01909968,\n        1.02531319,  1.03218385,  1.03962482,  1.04754613,  1.05585492,\n        1.06445583,  1.07325135,  1.08214217,  1.09102759,  1.09980586,\n        1.10837459,  1.11663118,  1.12447316,  1.13179861,  1.13850659,\n        1.1444975 ,  1.14967349,  1.15393883,  1.15720031,  1.15936763,\n        1.16035371,  1.16007506,  1.15845215,  1.15540967,  1.15087689,\n        1.1447879 ,  1.13708191,  1.12770348,  1.11660274,  1.10373561,\n        1.08906396,  1.07255579,  1.05418532,  1.03393313,  1.01178624,\n        0.98773815,  0.96178884,  0.93394483,  0.90421911,  0.8726311 ,\n        0.83920655,  0.80397749,  0.76698204,  0.72826428,  0.68787407,\n        0.64586687,  0.60230346,  0.55724974,  0.51077646,  0.46295892,\n        0.41387665,  0.36361314,  0.31225546,  0.25989393,  0.20662175,\n        0.15253465,  0.09773048,  0.04230883, -0.01362934, -0.06998212,\n       -0.12664705, -0.18352151, -0.24050312, -0.29749013, -0.35438184,\n       -0.41107895, -0.46748393, -0.52350143, -0.5790386 , -0.63400544,\n       -0.68831515, -0.74188439, -0.79463364, -0.84648745, -0.89737468,\n       -0.94722878, -0.99598797, -1.04359548, -1.08999967, -1.13515423,\n       -1.17901828, -1.22155649, -1.26273913, -1.30254218, -1.34094728,\n       -1.37794182, -1.41351886, -1.44767711, -1.48042087, -1.51175991,\n       -1.5417094 , -1.57028973, -1.5975264 , -1.62344979, -1.64809501,\n       -1.67150166, -1.69371361, -1.71477875, -1.7347487 , -1.75367858,\n       -1.77162669, -1.78865421, -1.80482493, -1.82020486, -1.83486198,\n       -1.84886587, -1.86228738, -1.87519834, -1.88767116, -1.89977855,\n       -1.91159317, -1.92318731, -1.93463259, -1.94599959, -1.95735763,\n       -1.9687744 , -1.98031574, -1.99204533, -2.00402444, -2.01631171,\n       -2.0289629 , -2.0420307 , -2.05556452, -2.06961033, -2.08421049,\n       -2.09940363, -2.11522452, -2.13170397, -2.14886876, -2.16674159,\n       -2.18534104, -2.20468153, -2.22477334, -2.24562266, -2.26723159,\n       -2.28959822, -2.3127167 , -2.33657737, -2.36116683, -2.38646811,\n       -2.41246081, -2.43912123, -2.46642259, -2.49433519, -2.52282662,\n       -2.551862  , -2.58140412, -2.61141376, -2.64184989, -2.67266987,\n       -2.70382978, -2.73528458, -2.76698844, -2.79889494, -2.83095733,\n       -2.86312879, -2.89536268, -2.92761276, -2.95983346, -2.99198006,\n       -3.02400897, -3.05587789, -3.08754606, -3.11897441, -3.15012578,\n       -3.18096507, -3.21145938, -3.24157819, -3.27129346, -3.30057977,\n       -3.32941439, -3.35777737, -3.38565162, -3.41302297, -3.43988016,\n       -3.46621493, -3.49202196, -3.5172989 , -3.54204632, -3.56626768,\n       -3.58996927, -3.61316015, -3.63585203, -3.65805923, -3.67979851,\n       -3.70108899, -3.72195201, -3.74241095, -3.76249114, -3.78221964,\n       -3.80162513, -3.82073766, -3.83958856, -3.85821018, -3.87663572,\n       -3.89489909, -3.91303463, -3.931077  , -3.94906095, -3.96702111,\n       -3.98499184, -4.00300704, -4.02109995, -4.039303  , -4.05764761,\n       -4.07616408, -4.09488138, -4.11382706, -4.13302707, -4.15250566,\n       -4.17228528, -4.19238644, -4.21282764, -4.23362529, -4.25479365,\n       -4.27634476, -4.2982884 , -4.32063207, -4.34338097, -4.36653799,\n       -4.39010372, -4.41407646, -4.43845231, -4.46322511, -4.48838661,\n       -4.51392644, -4.53983228, -4.56608986, -4.59268311, -4.61959427,\n       -4.64680398, -4.67429141, -4.7020344 , -4.73000958, -4.75819253,\n       -4.7865579 , -4.81507959, -4.84373087, -4.87248456, -4.90131317,\n       -4.93018906, -4.95908458, -4.98797226, -5.01682491, -5.04561582,\n       -5.07431885, -5.10290863, -5.13136063, -5.15965133, -5.18775835,\n       -5.2156605 , -5.24333798, -5.2707724 , -5.2979469 , -5.32484623,\n       -5.35145681, -5.37776682, -5.40376621, -5.42944675, -5.4548021 ,\n       -5.47982776, -5.50452114, -5.52888154, -5.5529101 , -5.57660983,\n       -5.59998557, -5.62304391, -5.64579317, -5.66824334, -5.69040599,\n       -5.71229421, -5.73392251, -5.75530676, -5.77646403, -5.79741256,\n       -5.81817158, -5.83876124, -5.85920247, -5.87951686, -5.89972653,\n       -5.91985403, -5.93992217, -5.9599539 , -5.97997222, -6.        ]) is not a valid value for color"
     ]
    }
   ],
   "source": [
    "ax.plot(x, y, linewidth=4)\n",
    "ax.plot(x, y + .1, linewidth=2, c=y-x)\n",
    "ax.plot(x, y + .2, linewidth=1)\n",
    "ax.plot(x, y + .3, linewidth=.5)\n",
    "ax.plot(x, y + .4, linewidth=.2);fig"
   ]
  },
  {
   "cell_type": "code",
   "execution_count": null,
   "id": "41eadf29-c6d3-4756-af8f-51743ffd8de6",
   "metadata": {},
   "outputs": [
    {
     "data": {
      "text/plain": [
       "<matplotlib.collections.PathCollection at 0x7faa76cb7670>"
      ]
     },
     "execution_count": 35,
     "metadata": {},
     "output_type": "execute_result"
    },
    {
     "data": {
      "image/png": "[encoded data removed]",
      "text/plain": [
       "<Figure size 432x288 with 1 Axes>"
      ]
     },
     "metadata": {
      "needs_background": "light"
     },
     "output_type": "display_data"
    }
   ],
   "source": [
    "plt.scatter(x, y, c=x-y)"
   ]
  },
  {
   "cell_type": "code",
   "execution_count": 45,
   "id": "1ff22378-8e55-4706-94d7-bd6c36ab5aa3",
   "metadata": {},
   "outputs": [
    {
     "ename": "TypeError",
     "evalue": "'float' object cannot be interpreted as an integer",
     "output_type": "error",
     "traceback": [
      "\u001b[0;31m---------------------------------------------------------------------------\u001b[0m",
      "\u001b[0;31mTypeError\u001b[0m                                 Traceback (most recent call last)",
      "Input \u001b[0;32mIn [45]\u001b[0m, in \u001b[0;36m<cell line: 1>\u001b[0;34m()\u001b[0m\n\u001b[0;32m----> 1\u001b[0m x \u001b[38;5;241m=\u001b[39m \u001b[43mnp\u001b[49m\u001b[38;5;241;43m.\u001b[39;49m\u001b[43mlinspace\u001b[49m\u001b[43m(\u001b[49m\u001b[38;5;241;43m-\u001b[39;49m\u001b[38;5;241;43m1\u001b[39;49m\u001b[43m,\u001b[49m\u001b[43m \u001b[49m\u001b[38;5;241;43m1\u001b[39;49m\u001b[43m,\u001b[49m\u001b[43m \u001b[49m\u001b[43mnum\u001b[49m\u001b[38;5;241;43m=\u001b[39;49m\u001b[38;5;241;43m1e5\u001b[39;49m\u001b[43m)\u001b[49m\n\u001b[1;32m      2\u001b[0m y \u001b[38;5;241m=\u001b[39m x \u001b[38;5;241m+\u001b[39m np\u001b[38;5;241m.\u001b[39mrandom\u001b[38;5;241m.\u001b[39mnormal(size\u001b[38;5;241m=\u001b[39mx\u001b[38;5;241m.\u001b[39msize)\n",
      "File \u001b[0;32m<__array_function__ internals>:180\u001b[0m, in \u001b[0;36mlinspace\u001b[0;34m(*args, **kwargs)\u001b[0m\n",
      "File \u001b[0;32m/usr/local/lib/python3.9/dist-packages/numpy/core/function_base.py:120\u001b[0m, in \u001b[0;36mlinspace\u001b[0;34m(start, stop, num, endpoint, retstep, dtype, axis)\u001b[0m\n\u001b[1;32m     23\u001b[0m \u001b[38;5;129m@array_function_dispatch\u001b[39m(_linspace_dispatcher)\n\u001b[1;32m     24\u001b[0m \u001b[38;5;28;01mdef\u001b[39;00m \u001b[38;5;21mlinspace\u001b[39m(start, stop, num\u001b[38;5;241m=\u001b[39m\u001b[38;5;241m50\u001b[39m, endpoint\u001b[38;5;241m=\u001b[39m\u001b[38;5;28;01mTrue\u001b[39;00m, retstep\u001b[38;5;241m=\u001b[39m\u001b[38;5;28;01mFalse\u001b[39;00m, dtype\u001b[38;5;241m=\u001b[39m\u001b[38;5;28;01mNone\u001b[39;00m,\n\u001b[1;32m     25\u001b[0m              axis\u001b[38;5;241m=\u001b[39m\u001b[38;5;241m0\u001b[39m):\n\u001b[1;32m     26\u001b[0m     \u001b[38;5;124;03m\"\"\"\u001b[39;00m\n\u001b[1;32m     27\u001b[0m \u001b[38;5;124;03m    Return evenly spaced numbers over a specified interval.\u001b[39;00m\n\u001b[1;32m     28\u001b[0m \n\u001b[0;32m   (...)\u001b[0m\n\u001b[1;32m    118\u001b[0m \n\u001b[1;32m    119\u001b[0m \u001b[38;5;124;03m    \"\"\"\u001b[39;00m\n\u001b[0;32m--> 120\u001b[0m     num \u001b[38;5;241m=\u001b[39m \u001b[43moperator\u001b[49m\u001b[38;5;241;43m.\u001b[39;49m\u001b[43mindex\u001b[49m\u001b[43m(\u001b[49m\u001b[43mnum\u001b[49m\u001b[43m)\u001b[49m\n\u001b[1;32m    121\u001b[0m     \u001b[38;5;28;01mif\u001b[39;00m num \u001b[38;5;241m<\u001b[39m \u001b[38;5;241m0\u001b[39m:\n\u001b[1;32m    122\u001b[0m         \u001b[38;5;28;01mraise\u001b[39;00m \u001b[38;5;167;01mValueError\u001b[39;00m(\u001b[38;5;124m\"\u001b[39m\u001b[38;5;124mNumber of samples, \u001b[39m\u001b[38;5;132;01m%s\u001b[39;00m\u001b[38;5;124m, must be non-negative.\u001b[39m\u001b[38;5;124m\"\u001b[39m \u001b[38;5;241m%\u001b[39m num)\n",
      "\u001b[0;31mTypeError\u001b[0m: 'float' object cannot be interpreted as an integer"
     ]
    }
   ],
   "source": [
    "x = np.linspace(-1, 1, num=1e5)\n",
    "y = x + np.random.normal(size=x.size)"
   ]
  },
  {
   "cell_type": "code",
   "execution_count": null,
   "id": "978dc683-d3e7-419c-92fc-2af714201f68",
   "metadata": {},
   "outputs": [],
   "source": []
  },
  {
   "cell_type": "code",
   "execution_count": null,
   "id": "6a5cc1ec-2f6f-474b-80f4-029493accc17",
   "metadata": {},
   "outputs": [],
   "source": []
  },
  {
   "cell_type": "code",
   "execution_count": null,
   "id": "7b53ff1e-b73b-4dc4-bb9b-92a7252cad1f",
   "metadata": {},
   "outputs": [],
   "source": []
  }
 ],
 "metadata": {
  "kernelspec": {
   "display_name": "Python 3 (ipykernel)",
   "language": "python",
   "name": "python3"
  },
  "language_info": {
   "codemirror_mode": {
    "name": "ipython",
    "version": 3
   },
   "file_extension": ".py",
   "mimetype": "text/x-python",
   "name": "python",
   "nbconvert_exporter": "python",
   "pygments_lexer": "ipython3",
   "version": "3.9.13"
  }
 },
 "nbformat": 4,
 "nbformat_minor": 5
}
