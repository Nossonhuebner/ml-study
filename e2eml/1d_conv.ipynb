{
 "cells": [
  {
   "cell_type": "code",
   "execution_count": 2,
   "id": "9b63a51f-6440-4f58-8a25-1a369df32863",
   "metadata": {},
   "outputs": [],
   "source": [
    "import numpy as np"
   ]
  },
  {
   "cell_type": "code",
   "execution_count": 4,
   "id": "b6dd6d57-8b7a-4b11-84d5-e48ff33d0886",
   "metadata": {},
   "outputs": [],
   "source": [
    "t = np.ones((4,3,2))"
   ]
  },
  {
   "cell_type": "code",
   "execution_count": null,
   "id": "c8ce05c3-1ebd-429c-b2ad-c85332b5a0c2",
   "metadata": {},
   "outputs": [],
   "source": []
  },
  {
   "cell_type": "code",
   "execution_count": 6,
   "id": "01062473-2291-46e4-ace0-7247d440d94a",
   "metadata": {},
   "outputs": [
    {
     "data": {
      "text/plain": [
       "(4, 3, 2)"
      ]
     },
     "execution_count": 6,
     "metadata": {},
     "output_type": "execute_result"
    }
   ],
   "source": [
    "t.shape"
   ]
  },
  {
   "cell_type": "code",
   "execution_count": 11,
   "id": "25185271-69b1-474f-9287-d06654c9d5a2",
   "metadata": {},
   "outputs": [],
   "source": [
    "t[0][0][1] = 9"
   ]
  },
  {
   "cell_type": "code",
   "execution_count": 12,
   "id": "34bc1570-8574-4248-8e04-1d7bd73a4b1a",
   "metadata": {},
   "outputs": [
    {
     "data": {
      "text/plain": [
       "array([[[1., 9.],\n",
       "        [1., 1.],\n",
       "        [1., 1.]],\n",
       "\n",
       "       [[1., 1.],\n",
       "        [1., 1.],\n",
       "        [1., 1.]],\n",
       "\n",
       "       [[1., 1.],\n",
       "        [1., 1.],\n",
       "        [1., 1.]],\n",
       "\n",
       "       [[1., 1.],\n",
       "        [1., 1.],\n",
       "        [1., 1.]]])"
      ]
     },
     "execution_count": 12,
     "metadata": {},
     "output_type": "execute_result"
    }
   ],
   "source": [
    "t"
   ]
  },
  {
   "cell_type": "code",
   "execution_count": 13,
   "id": "8e1bdb2a-23d3-4ffb-b5b9-80750af87b68",
   "metadata": {},
   "outputs": [
    {
     "data": {
      "text/plain": [
       "array([1., 9.])"
      ]
     },
     "execution_count": 13,
     "metadata": {},
     "output_type": "execute_result"
    }
   ],
   "source": [
    "t[0][0]"
   ]
  },
  {
   "cell_type": "code",
   "execution_count": 15,
   "id": "a732d7a5-0ad0-47de-bb06-7bd8c0585cfd",
   "metadata": {},
   "outputs": [
    {
     "data": {
      "text/plain": [
       "array([[1., 9.],\n",
       "       [1., 1.],\n",
       "       [1., 1.]])"
      ]
     },
     "execution_count": 15,
     "metadata": {},
     "output_type": "execute_result"
    }
   ],
   "source": [
    "t[0]"
   ]
  },
  {
   "cell_type": "code",
   "execution_count": 37,
   "id": "acdcac4e-0378-45e4-9be6-7f5f36a71661",
   "metadata": {},
   "outputs": [
    {
     "data": {
      "text/plain": [
       "[array([[0.44898224, 0.51194799],\n",
       "        [0.42317436, 0.8422208 ]]),\n",
       " array([[0.93725761, 0.64406025],\n",
       "        [0.50454222, 0.71488799]]),\n",
       " array([[0.29118942, 0.63558624],\n",
       "        [0.73221129, 0.53369476]]),\n",
       " array([[0.84752817, 0.11442131],\n",
       "        [0.5908797 , 0.77101322]]),\n",
       " array([[0.93240206, 0.86402155],\n",
       "        [0.14216254, 0.34476342]]),\n",
       " array([[0.44535216, 0.48568198],\n",
       "        [0.96889881, 0.38697736]]),\n",
       " array([[0.74097098, 0.86659066],\n",
       "        [0.68619108, 0.76901484]]),\n",
       " array([[0.80821599, 0.60692958],\n",
       "        [0.03827036, 0.08250543]])]"
      ]
     },
     "execution_count": 37,
     "metadata": {},
     "output_type": "execute_result"
    }
   ],
   "source": [
    "list((np.random.random((2,2)) for _ in range(8)))"
   ]
  },
  {
   "cell_type": "code",
   "execution_count": 34,
   "id": "96e9d71d-b168-4814-9f9b-c8dc538ffcd8",
   "metadata": {},
   "outputs": [
    {
     "data": {
      "text/plain": [
       "array([[0.43374114, 0.00328858],\n",
       "       [0.80881161, 0.91965161]])"
      ]
     },
     "execution_count": 34,
     "metadata": {},
     "output_type": "execute_result"
    }
   ],
   "source": [
    "a"
   ]
  },
  {
   "cell_type": "code",
   "execution_count": 38,
   "id": "24eadf28-dd94-439e-98e7-48b39a7a19fd",
   "metadata": {},
   "outputs": [
    {
     "data": {
      "text/plain": [
       "\u001b[0;31mDocstring:\u001b[0m\n",
       "random(size=None)\n",
       "\n",
       "Return random floats in the half-open interval [0.0, 1.0). Alias for\n",
       "`random_sample` to ease forward-porting to the new random API.\n",
       "\u001b[0;31mType:\u001b[0m      builtin_function_or_method\n"
      ]
     },
     "metadata": {},
     "output_type": "display_data"
    }
   ],
   "source": [
    "np.random.random?"
   ]
  },
  {
   "cell_type": "code",
   "execution_count": null,
   "id": "274fe587-1fb6-43bf-ad1a-7c200ce09b6d",
   "metadata": {},
   "outputs": [],
   "source": []
  }
 ],
 "metadata": {
  "kernelspec": {
   "display_name": "Python 3 (ipykernel)",
   "language": "python",
   "name": "python3"
  },
  "language_info": {
   "codemirror_mode": {
    "name": "ipython",
    "version": 3
   },
   "file_extension": ".py",
   "mimetype": "text/x-python",
   "name": "python",
   "nbconvert_exporter": "python",
   "pygments_lexer": "ipython3",
   "version": "3.9.13"
  }
 },
 "nbformat": 4,
 "nbformat_minor": 5
}
