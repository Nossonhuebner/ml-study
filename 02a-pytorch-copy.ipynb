{
 "cells": [
  {
   "cell_type": "code",
   "execution_count": 3,
   "id": "48ddaa5d-b004-45a7-87fc-6dfa7431bc8e",
   "metadata": {},
   "outputs": [
    {
     "name": "stdout",
     "output_type": "stream",
     "text": [
      "[]\n",
      "Slusarski\n"
     ]
    }
   ],
   "source": [
    "from io import open\n",
    "import glob\n",
    "import os\n",
    "\n",
    "def findFiles(path): return glob.glob(path)\n",
    "\n",
    "print(findFiles('data/names/*.txt'))\n",
    "\n",
    "import unicodedata\n",
    "import string\n",
    "\n",
    "all_letters = string.ascii_letters + \" .,;'\"\n",
    "n_letters = len(all_letters)\n",
    "\n",
    "# Turn a Unicode string to plain ASCII, thanks to https://stackoverflow.com/a/518232/2809427\n",
    "def unicodeToAscii(s):\n",
    "    return ''.join(\n",
    "        c for c in unicodedata.normalize('NFD', s)\n",
    "        if unicodedata.category(c) != 'Mn'\n",
    "        and c in all_letters\n",
    "    )\n",
    "\n",
    "print(unicodeToAscii('Ślusàrski'))\n",
    "\n",
    "# Build the category_lines dictionary, a list of names per language\n",
    "category_lines = {}\n",
    "all_categories = []\n",
    "\n",
    "# Read a file and split into lines\n",
    "def readLines(filename):\n",
    "    lines = open(filename, encoding='utf-8').read().strip().split('\\n')\n",
    "    return [unicodeToAscii(line) for line in lines]\n",
    "\n",
    "for filename in findFiles('02-data/names/*.txt'):\n",
    "    category = os.path.splitext(os.path.basename(filename))[0]\n",
    "    all_categories.append(category)\n",
    "    lines = readLines(filename)\n",
    "    category_lines[category] = lines\n",
    "\n",
    "n_categories = len(all_categories)"
   ]
  },
  {
   "cell_type": "code",
   "execution_count": 4,
   "id": "c6ca5a3e-f8c3-4df0-8a70-6437a4a8d848",
   "metadata": {},
   "outputs": [
    {
     "name": "stdout",
     "output_type": "stream",
     "text": [
      "['Abandonato', 'Abatangelo', 'Abatantuono', 'Abate', 'Abategiovanni']\n"
     ]
    }
   ],
   "source": [
    "print(category_lines['Italian'][:5])\n"
   ]
  },
  {
   "cell_type": "code",
   "execution_count": 5,
   "id": "4491d6f6-7726-428c-931e-1f5eacdfd2b1",
   "metadata": {},
   "outputs": [
    {
     "name": "stdout",
     "output_type": "stream",
     "text": [
      "tensor([[0., 0., 0., 0., 0., 0., 0., 0., 0., 0., 0., 0., 0., 0., 0., 0., 0., 0.,\n",
      "         0., 0., 0., 0., 0., 0., 0., 0., 0., 0., 0., 0., 0., 0., 0., 0., 0., 1.,\n",
      "         0., 0., 0., 0., 0., 0., 0., 0., 0., 0., 0., 0., 0., 0., 0., 0., 0., 0.,\n",
      "         0., 0., 0.]])\n",
      "torch.Size([5, 1, 57])\n"
     ]
    }
   ],
   "source": [
    "import torch\n",
    "\n",
    "# Find letter index from all_letters, e.g. \"a\" = 0\n",
    "def letterToIndex(letter):\n",
    "    return all_letters.find(letter)\n",
    "\n",
    "# Just for demonstration, turn a letter into a <1 x n_letters> Tensor\n",
    "def letterToTensor(letter):\n",
    "    tensor = torch.zeros(1, n_letters)\n",
    "    tensor[0][letterToIndex(letter)] = 1\n",
    "    return tensor\n",
    "\n",
    "# Turn a line into a <line_length x 1 x n_letters>,\n",
    "# or an array of one-hot letter vectors\n",
    "def lineToTensor(line):\n",
    "    tensor = torch.zeros(len(line), 1, n_letters)\n",
    "    for li, letter in enumerate(line):\n",
    "        tensor[li][0][letterToIndex(letter)] = 1\n",
    "    return tensor\n",
    "\n",
    "print(letterToTensor('J'))\n",
    "\n",
    "print(lineToTensor('Jones').size())"
   ]
  },
  {
   "cell_type": "code",
   "execution_count": 6,
   "id": "dc0e440e-fcd7-409c-9581-703fddc587a2",
   "metadata": {},
   "outputs": [
    {
     "data": {
      "text/plain": [
       "(tensor([[[0., 0., 0., 0., 0., 0., 0., 0., 0., 0., 0., 0., 0., 1., 0., 0., 0.,\n",
       "           0., 0., 0., 0., 0., 0., 0., 0., 0., 0., 0., 0., 0., 0., 0., 0., 0.,\n",
       "           0., 0., 0., 0., 0., 0., 0., 0., 0., 0., 0., 0., 0., 0., 0., 0., 0.,\n",
       "           0., 0., 0., 0., 0., 0.]],\n",
       " \n",
       "         [[1., 0., 0., 0., 0., 0., 0., 0., 0., 0., 0., 0., 0., 0., 0., 0., 0.,\n",
       "           0., 0., 0., 0., 0., 0., 0., 0., 0., 0., 0., 0., 0., 0., 0., 0., 0.,\n",
       "           0., 0., 0., 0., 0., 0., 0., 0., 0., 0., 0., 0., 0., 0., 0., 0., 0.,\n",
       "           0., 0., 0., 0., 0., 0.]],\n",
       " \n",
       "         [[0., 0., 0., 0., 0., 0., 0., 0., 0., 0., 0., 0., 0., 1., 0., 0., 0.,\n",
       "           0., 0., 0., 0., 0., 0., 0., 0., 0., 0., 0., 0., 0., 0., 0., 0., 0.,\n",
       "           0., 0., 0., 0., 0., 0., 0., 0., 0., 0., 0., 0., 0., 0., 0., 0., 0.,\n",
       "           0., 0., 0., 0., 0., 0.]]]),\n",
       " torch.Size([3, 1, 57]))"
      ]
     },
     "execution_count": 6,
     "metadata": {},
     "output_type": "execute_result"
    }
   ],
   "source": [
    "lineToTensor('nan'), lineToTensor('nan').shape"
   ]
  },
  {
   "cell_type": "code",
   "execution_count": 7,
   "id": "49b95049-259b-47c5-bd7c-8c58e6813607",
   "metadata": {},
   "outputs": [],
   "source": [
    "import torch.nn as nn\n",
    "\n",
    "class RNN(nn.Module):\n",
    "    def __init__(self, input_size, hidden_size, output_size):\n",
    "        super(RNN, self).__init__()\n",
    "\n",
    "        self.hidden_size = hidden_size\n",
    "\n",
    "        self.i2h = nn.Linear(input_size + hidden_size, hidden_size)\n",
    "        self.h2o = nn.Linear(hidden_size, output_size)\n",
    "        self.softmax = nn.LogSoftmax(dim=1)\n",
    "\n",
    "    def forward(self, input, hidden):\n",
    "        combined = torch.cat((input, hidden), 1)\n",
    "        hidden = self.i2h(combined)\n",
    "        output = self.h2o(hidden)\n",
    "        output = self.softmax(output)\n",
    "        return output, hidden\n",
    "\n",
    "    def initHidden(self):\n",
    "        return torch.zeros(1, self.hidden_size)\n",
    "\n",
    "n_hidden = 128\n",
    "rnn = RNN(n_letters, n_hidden, n_categories)"
   ]
  },
  {
   "cell_type": "code",
   "execution_count": 8,
   "id": "9f191f19-ab80-4cc0-ad55-f19a44b19dc0",
   "metadata": {},
   "outputs": [],
   "source": [
    "input = letterToTensor('A')\n",
    "hidden = torch.zeros(1, n_hidden)\n",
    "\n",
    "output, next_hidden = rnn(input, hidden)"
   ]
  },
  {
   "cell_type": "code",
   "execution_count": 9,
   "id": "3df6b55b-89ea-48f4-8988-b5d2e55cf94f",
   "metadata": {},
   "outputs": [
    {
     "name": "stdout",
     "output_type": "stream",
     "text": [
      "tensor([[-2.9120, -2.8349, -2.9609, -2.9104, -2.8269, -2.9710, -2.8375, -2.8281,\n",
      "         -2.8462, -2.8080, -2.9701, -2.8812, -2.8440, -2.9094, -2.8861, -2.9894,\n",
      "         -2.8742, -2.9662]], grad_fn=<LogSoftmaxBackward0>)\n"
     ]
    }
   ],
   "source": [
    "input = lineToTensor('Albert')\n",
    "hidden = torch.zeros(1, n_hidden)\n",
    "\n",
    "output, next_hidden = rnn(input[0], hidden)\n",
    "print(output)"
   ]
  },
  {
   "cell_type": "code",
   "execution_count": 10,
   "id": "de343457-8e9f-42d9-bd65-08cfe2272e10",
   "metadata": {},
   "outputs": [
    {
     "name": "stdout",
     "output_type": "stream",
     "text": [
      "('Spanish', 9)\n"
     ]
    }
   ],
   "source": [
    "def categoryFromOutput(output):\n",
    "    top_n, top_i = output.topk(1)\n",
    "    category_i = top_i[0].item()\n",
    "    return all_categories[category_i], category_i\n",
    "\n",
    "print(categoryFromOutput(output))"
   ]
  },
  {
   "cell_type": "code",
   "execution_count": 11,
   "id": "1ac01f61-9744-4bb4-b04f-1b5df5ca9334",
   "metadata": {},
   "outputs": [
    {
     "name": "stdout",
     "output_type": "stream",
     "text": [
      "category = Italian / line = Cattaneo\n",
      "category = Czech / line = Grygarova\n",
      "category = Portuguese / line = Salazar\n",
      "category = Greek / line = Close\n",
      "category = Czech / line = Jarzembowski\n",
      "category = Chinese / line = Sum\n",
      "category = Italian / line = Viola\n",
      "category = Japanese / line = Honda\n",
      "category = Portuguese / line = Santiago\n",
      "category = Vietnamese / line = Van\n"
     ]
    }
   ],
   "source": [
    "import random\n",
    "\n",
    "def randomChoice(l):\n",
    "    return l[random.randint(0, len(l) - 1)]\n",
    "\n",
    "def randomTrainingExample():\n",
    "    category = randomChoice(all_categories)\n",
    "    line = randomChoice(category_lines[category])\n",
    "    category_tensor = torch.tensor([all_categories.index(category)], dtype=torch.long)\n",
    "    line_tensor = lineToTensor(line)\n",
    "    return category, line, category_tensor, line_tensor\n",
    "\n",
    "for i in range(10):\n",
    "    category, line, category_tensor, line_tensor = randomTrainingExample()\n",
    "    print('category =', category, '/ line =', line)"
   ]
  },
  {
   "cell_type": "code",
   "execution_count": 12,
   "id": "fb2e761b-a4a1-40be-9a12-b67b2f219285",
   "metadata": {},
   "outputs": [],
   "source": [
    "criterion = nn.NLLLoss()\n"
   ]
  },
  {
   "cell_type": "code",
   "execution_count": 13,
   "id": "98a21a17-7f7b-445b-8702-56d30a013a33",
   "metadata": {},
   "outputs": [],
   "source": [
    "learning_rate = 0.005 # If you set this too high, it might explode. If too low, it might not learn\n",
    "\n",
    "def train(category_tensor, line_tensor):\n",
    "    hidden = rnn.initHidden()\n",
    "\n",
    "    rnn.zero_grad()\n",
    "\n",
    "    for i in range(line_tensor.size()[0]):\n",
    "        output, hidden = rnn(line_tensor[i], hidden)\n",
    "\n",
    "    loss = criterion(output, category_tensor)\n",
    "    loss.backward()\n",
    "\n",
    "    # Add parameters' gradients to their values, multiplied by learning rate\n",
    "    for p in rnn.parameters():\n",
    "        p.data.add_(p.grad.data, alpha=-learning_rate)\n",
    "\n",
    "    return output, loss.item()\n"
   ]
  },
  {
   "cell_type": "code",
   "execution_count": 14,
   "id": "f67613af-2f6a-4855-9f5d-24d73a1b05a1",
   "metadata": {},
   "outputs": [
    {
     "name": "stdout",
     "output_type": "stream",
     "text": [
      "500 16% (1m 42s) 2.8927 Elven / Irish ✗ (English)\n",
      "1000 33% (3m 34s) 2.8712 Nazari / Italian ✗ (Arabic)\n",
      "1500 50% (4m 0s) 2.8894 Sauvageon / Russian ✗ (French)\n",
      "2000 66% (4m 2s) 2.7275 Ruan / Chinese ✓\n",
      "2500 83% (4m 8s) 2.5897 Dalianis / Greek ✓\n",
      "3000 100% (4m 33s) 2.6999 Mohnatsky / Russian ✓\n"
     ]
    }
   ],
   "source": [
    "import time\n",
    "import math\n",
    "\n",
    "n_iters = 3000\n",
    "print_every = 500\n",
    "plot_every = 100\n",
    "\n",
    "\n",
    "\n",
    "# Keep track of losses for plotting\n",
    "current_loss = 0\n",
    "all_losses = []\n",
    "\n",
    "def timeSince(since):\n",
    "    now = time.time()\n",
    "    s = now - since\n",
    "    m = math.floor(s / 60)\n",
    "    s -= m * 60\n",
    "    return '%dm %ds' % (m, s)\n",
    "\n",
    "start = time.time()\n",
    "\n",
    "for iter in range(1, n_iters + 1):\n",
    "    category, line, category_tensor, line_tensor = randomTrainingExample()\n",
    "    output, loss = train(category_tensor, line_tensor)\n",
    "    current_loss += loss\n",
    "\n",
    "    # Print ``iter`` number, loss, name and guess\n",
    "    if iter % print_every == 0:\n",
    "        guess, guess_i = categoryFromOutput(output)\n",
    "        correct = '✓' if guess == category else '✗ (%s)' % category\n",
    "        print('%d %d%% (%s) %.4f %s / %s %s' % (iter, iter / n_iters * 100, timeSince(start), loss, line, guess, correct))\n",
    "\n",
    "    # Add current loss avg to list of losses\n",
    "    if iter % plot_every == 0:\n",
    "        all_losses.append(current_loss / plot_every)\n",
    "        current_loss = 0"
   ]
  },
  {
   "cell_type": "code",
   "execution_count": 15,
   "id": "88fcb126-fffd-41f3-997c-cb1b235db153",
   "metadata": {},
   "outputs": [
    {
     "ename": "NameError",
     "evalue": "name 'char_to_one_hot' is not defined",
     "output_type": "error",
     "traceback": [
      "\u001b[0;31m---------------------------------------------------------------------------\u001b[0m",
      "\u001b[0;31mNameError\u001b[0m                                 Traceback (most recent call last)",
      "Input \u001b[0;32mIn [15]\u001b[0m, in \u001b[0;36m<cell line: 1>\u001b[0;34m()\u001b[0m\n\u001b[0;32m----> 1\u001b[0m \u001b[43mchar_to_one_hot\u001b[49m\n",
      "\u001b[0;31mNameError\u001b[0m: name 'char_to_one_hot' is not defined"
     ]
    }
   ],
   "source": [
    "char_to_one_hot"
   ]
  },
  {
   "cell_type": "code",
   "execution_count": 16,
   "id": "f9f8b3a0-514b-4c4a-8d26-dd0996530c1f",
   "metadata": {},
   "outputs": [
    {
     "data": {
      "text/plain": [
       "[<matplotlib.lines.Line2D at 0x7fdc4c1d4eb0>]"
      ]
     },
     "execution_count": 16,
     "metadata": {},
     "output_type": "execute_result"
    },
    {
     "data": {
      "image/png": "[encoded data removed]",
      "text/plain": [
       "<Figure size 432x288 with 1 Axes>"
      ]
     },
     "metadata": {
      "needs_background": "light"
     },
     "output_type": "display_data"
    }
   ],
   "source": [
    "import matplotlib.pyplot as plt\n",
    "import matplotlib.ticker as ticker\n",
    "\n",
    "plt.figure()\n",
    "plt.plot(all_losses)"
   ]
  },
  {
   "cell_type": "code",
   "execution_count": 31,
   "id": "7b6c7222-6c79-4cd6-ba2f-b0be995d06e3",
   "metadata": {},
   "outputs": [
    {
     "name": "stderr",
     "output_type": "stream",
     "text": [
      "/tmp/ipykernel_102/3585656379.py:33: UserWarning: FixedFormatter should only be used together with FixedLocator\n",
      "  ax.set_xticklabels([''] + all_categories, rotation=90)\n",
      "/tmp/ipykernel_102/3585656379.py:34: UserWarning: FixedFormatter should only be used together with FixedLocator\n",
      "  ax.set_yticklabels([''] + all_categories)\n"
     ]
    },
    {
     "data": {
      "image/png": "[encoded data removed]",
      "text/plain": [
       "<Figure size 432x288 with 2 Axes>"
      ]
     },
     "metadata": {
      "needs_background": "light"
     },
     "output_type": "display_data"
    }
   ],
   "source": [
    "# Keep track of correct guesses in a confusion matrix\n",
    "confusion = torch.zeros(n_categories, n_categories)\n",
    "n_confusion = 10000\n",
    "\n",
    "# Just return an output given a line\n",
    "def evaluate(line_tensor):\n",
    "    hidden = rnn.initHidden()\n",
    "\n",
    "    for i in range(line_tensor.size()[0]):\n",
    "        output, hidden = rnn(line_tensor[i], hidden)\n",
    "\n",
    "    return output\n",
    "\n",
    "# Go through a bunch of examples and record which are correctly guessed\n",
    "for i in range(n_confusion):\n",
    "    category, line, category_tensor, line_tensor = randomTrainingExample()\n",
    "    output = evaluate(line_tensor)\n",
    "    guess, guess_i = categoryFromOutput(output)\n",
    "    category_i = all_categories.index(category)\n",
    "    confusion[category_i][guess_i] += 1\n",
    "\n",
    "# Normalize by dividing every row by its sum\n",
    "for i in range(n_categories):\n",
    "    confusion[i] = confusion[i] / confusion[i].sum()\n",
    "\n",
    "# Set up plot\n",
    "fig = plt.figure()\n",
    "ax = fig.add_subplot(111)\n",
    "cax = ax.matshow(confusion.numpy())\n",
    "fig.colorbar(cax)\n",
    "\n",
    "# Set up axes\n",
    "ax.set_xticklabels([''] + all_categories, rotation=90)\n",
    "ax.set_yticklabels([''] + all_categories)\n",
    "\n",
    "# Force label at every tick\n",
    "ax.xaxis.set_major_locator(ticker.MultipleLocator(1))\n",
    "ax.yaxis.set_major_locator(ticker.MultipleLocator(1))\n",
    "\n",
    "# sphinx_gallery_thumbnail_number = 2\n",
    "plt.show()"
   ]
  },
  {
   "cell_type": "code",
   "execution_count": 32,
   "id": "d216d545-fea1-4f8f-a981-8fba0dc878b2",
   "metadata": {},
   "outputs": [
    {
     "name": "stdout",
     "output_type": "stream",
     "text": [
      "\n",
      "> Dovesky\n",
      "(-2.69) Russian\n",
      "(-2.70) Czech\n",
      "(-2.71) Polish\n",
      "\n",
      "> Jackson\n",
      "(-2.76) Scottish\n",
      "(-2.78) Russian\n",
      "(-2.79) Czech\n",
      "\n",
      "> Satoshi\n",
      "(-2.65) Polish\n",
      "(-2.70) Italian\n",
      "(-2.75) Japanese\n"
     ]
    }
   ],
   "source": [
    "def predict(input_line, n_predictions=3):\n",
    "    print('\\n> %s' % input_line)\n",
    "    with torch.no_grad():\n",
    "        output = evaluate(lineToTensor(input_line))\n",
    "\n",
    "        # Get top N categories\n",
    "        topv, topi = output.topk(n_predictions, 1, True)\n",
    "        predictions = []\n",
    "\n",
    "        for i in range(n_predictions):\n",
    "            value = topv[0][i].item()\n",
    "            category_index = topi[0][i].item()\n",
    "            print('(%.2f) %s' % (value, all_categories[category_index]))\n",
    "            predictions.append([value, all_categories[category_index]])\n",
    "\n",
    "predict('Dovesky')\n",
    "predict('Jackson')\n",
    "predict('Satoshi')"
   ]
  },
  {
   "cell_type": "code",
   "execution_count": 30,
   "id": "80314e45-29fe-49cf-9e63-ffdb65930a0c",
   "metadata": {},
   "outputs": [
    {
     "data": {
      "text/plain": [
       "('Scottish', 'Brown', tensor([6]), torch.Size([5, 1, 57]))"
      ]
     },
     "execution_count": 30,
     "metadata": {},
     "output_type": "execute_result"
    }
   ],
   "source": [
    "category, line, category_tensor, line_tensor = randomTrainingExample();category, line, category_tensor, line_tensor.shape"
   ]
  },
  {
   "cell_type": "code",
   "execution_count": 20,
   "id": "53ebe943-6c82-441e-a981-312db21489a1",
   "metadata": {},
   "outputs": [
    {
     "data": {
      "text/plain": [
       "('English', 'Salmon', tensor([10]), torch.Size([6, 1, 57]))"
      ]
     },
     "execution_count": 20,
     "metadata": {},
     "output_type": "execute_result"
    }
   ],
   "source": []
  },
  {
   "cell_type": "code",
   "execution_count": 42,
   "id": "0bbf8ce4-432d-43b4-be34-338327054219",
   "metadata": {},
   "outputs": [],
   "source": [
    "def evaluate2():\n",
    "    hidden = rnn.initHidden()\n",
    "    label, name, labelTensor, nameTensor = randomTrainingExample()\n",
    "    for i in range(nameTensor.shape[0]):\n",
    "        output, hidden = rnn(nameTensor[i], hidden)\n",
    "    print(f\"{output.argmax() == labelTensor} name: {name}; predicted: {all_categories[output.argmax().item()]}; Actual: {label}\")\n",
    "    return (output.argmax() == labelTensor).float().item()"
   ]
  },
  {
   "cell_type": "code",
   "execution_count": null,
   "id": "d2b53153-d09e-40d4-a417-d62328d82036",
   "metadata": {},
   "outputs": [],
   "source": []
  },
  {
   "cell_type": "code",
   "execution_count": 43,
   "id": "4d25cd46-433e-48e1-8f11-9b104ad0e968",
   "metadata": {},
   "outputs": [
    {
     "name": "stdout",
     "output_type": "stream",
     "text": [
      "tensor([False]) name: La; predicted: Japanese; Actual: Vietnamese\n",
      "tensor([False]) name: Devonport; predicted: Dutch; Actual: English\n",
      "tensor([False]) name: Peter; predicted: Czech; Actual: German\n",
      "tensor([False]) name: Schuhart; predicted: Dutch; Actual: German\n",
      "tensor([False]) name: Roche; predicted: Portuguese; Actual: French\n",
      "tensor([False]) name: Ghannam; predicted: Czech; Actual: Arabic\n",
      "tensor([True]) name: Janovitsky; predicted: Russian; Actual: Russian\n",
      "tensor([False]) name: Alfaro; predicted: Portuguese; Actual: Spanish\n",
      "tensor([False]) name: Deushi; predicted: Polish; Actual: Japanese\n",
      "tensor([False]) name: Lindsay; predicted: Russian; Actual: Scottish\n",
      "tensor([False]) name: Ly; predicted: Russian; Actual: Vietnamese\n",
      "tensor([False]) name: Lihtenshtein; predicted: Scottish; Actual: Russian\n",
      "tensor([True]) name: Rudaski; predicted: Polish; Actual: Polish\n",
      "tensor([True]) name: Machado; predicted: Portuguese; Actual: Portuguese\n",
      "tensor([False]) name: Adrichem; predicted: Czech; Actual: Dutch\n",
      "tensor([False]) name: Shaw; predicted: Polish; Actual: Scottish\n",
      "tensor([True]) name: Wronski; predicted: Polish; Actual: Polish\n",
      "tensor([False]) name: Smit; predicted: French; Actual: Dutch\n",
      "tensor([False]) name: Vennen; predicted: Czech; Actual: Dutch\n",
      "tensor([False]) name: Yeon; predicted: Scottish; Actual: Korean\n",
      "tensor([True]) name: Marchioni; predicted: Italian; Actual: Italian\n",
      "tensor([False]) name: Desmond; predicted: Czech; Actual: Irish\n",
      "tensor([False]) name: Gim; predicted: Czech; Actual: Chinese\n",
      "tensor([False]) name: Riain; predicted: Scottish; Actual: Irish\n",
      "tensor([False]) name: Segher; predicted: German; Actual: Dutch\n",
      "tensor([False]) name: Douglas; predicted: Greek; Actual: Scottish\n",
      "tensor([False]) name: Medeiros; predicted: Greek; Actual: Portuguese\n",
      "tensor([False]) name: Kim; predicted: Czech; Actual: Korean\n",
      "tensor([True]) name: Anselmetti; predicted: Italian; Actual: Italian\n",
      "tensor([False]) name: Paternoster; predicted: Czech; Actual: French\n",
      "tensor([True]) name: Grokhotov; predicted: Russian; Actual: Russian\n",
      "tensor([False]) name: Scavo; predicted: Portuguese; Actual: Italian\n",
      "tensor([True]) name: Hira; predicted: Japanese; Actual: Japanese\n",
      "tensor([False]) name: Zwolenksy; predicted: Russian; Actual: Czech\n",
      "tensor([True]) name: Kijek; predicted: Polish; Actual: Polish\n",
      "tensor([True]) name: Kasaya; predicted: Japanese; Actual: Japanese\n",
      "tensor([False]) name: Pokorny; predicted: Russian; Actual: Polish\n",
      "tensor([False]) name: Issa; predicted: Japanese; Actual: Arabic\n",
      "tensor([False]) name: Siegel; predicted: Czech; Actual: German\n",
      "tensor([False]) name: Coma; predicted: Japanese; Actual: Czech\n",
      "tensor([False]) name: Close; predicted: German; Actual: Greek\n",
      "tensor([True]) name: Jafaev; predicted: Russian; Actual: Russian\n",
      "tensor([False]) name: Kwak; predicted: Polish; Actual: Korean\n",
      "tensor([False]) name: Ventura; predicted: Japanese; Actual: Portuguese\n",
      "tensor([False]) name: Suarez; predicted: Czech; Actual: Spanish\n",
      "tensor([False]) name: Lesauvage; predicted: Portuguese; Actual: French\n",
      "tensor([False]) name: Siena; predicted: Japanese; Actual: Italian\n",
      "tensor([False]) name: Korandak; predicted: Polish; Actual: Czech\n",
      "tensor([False]) name: Dao; predicted: Portuguese; Actual: Vietnamese\n",
      "tensor([True]) name: Teng; predicted: Chinese; Actual: Chinese\n",
      "tensor([False]) name: Koo; predicted: Portuguese; Actual: Korean\n",
      "tensor([False]) name: Desmond; predicted: Czech; Actual: Irish\n",
      "tensor([True]) name: Filipek; predicted: Polish; Actual: Polish\n",
      "tensor([False]) name: Tomes; predicted: Greek; Actual: Czech\n",
      "tensor([False]) name: Ganim; predicted: Czech; Actual: Arabic\n",
      "tensor([True]) name: Warner; predicted: German; Actual: German\n",
      "tensor([False]) name: Botros; predicted: Greek; Actual: Arabic\n",
      "tensor([False]) name: Abaroa; predicted: Japanese; Actual: Spanish\n",
      "tensor([False]) name: Cantu; predicted: Portuguese; Actual: Italian\n",
      "tensor([False]) name: Gabrisova; predicted: Japanese; Actual: Czech\n",
      "tensor([False]) name: Spannagel; predicted: Czech; Actual: German\n",
      "tensor([True]) name: Robertson; predicted: Scottish; Actual: Scottish\n",
      "tensor([True]) name: Juan; predicted: Chinese; Actual: Chinese\n",
      "tensor([False]) name: Saeki; predicted: Polish; Actual: Japanese\n",
      "tensor([False]) name: Peters; predicted: Greek; Actual: German\n",
      "tensor([True]) name: Pochevalov; predicted: Russian; Actual: Russian\n",
      "tensor([False]) name: Sienkiewicz; predicted: Czech; Actual: Polish\n",
      "tensor([True]) name: Jaskulski; predicted: Polish; Actual: Polish\n",
      "tensor([True]) name: Kerper; predicted: German; Actual: German\n",
      "tensor([False]) name: O'Brien; predicted: Czech; Actual: Irish\n",
      "tensor([False]) name: Schrader; predicted: Czech; Actual: German\n",
      "tensor([False]) name: Almeida; predicted: Japanese; Actual: Portuguese\n",
      "tensor([False]) name: Schneijders; predicted: Greek; Actual: Dutch\n",
      "tensor([False]) name: Shiomi; predicted: Italian; Actual: Japanese\n",
      "tensor([False]) name: Klerkx; predicted: Czech; Actual: Dutch\n",
      "tensor([True]) name: Yun; predicted: Chinese; Actual: Chinese\n",
      "tensor([False]) name: Seah; predicted: Czech; Actual: Chinese\n",
      "tensor([True]) name: Duarte; predicted: Portuguese; Actual: Portuguese\n",
      "tensor([False]) name: Wang; predicted: Vietnamese; Actual: Chinese\n",
      "tensor([False]) name: O'Donoghue; predicted: Portuguese; Actual: Irish\n",
      "tensor([False]) name: Baba; predicted: Japanese; Actual: Arabic\n",
      "tensor([False]) name: Docherty; predicted: Czech; Actual: Scottish\n",
      "tensor([False]) name: Daal; predicted: Czech; Actual: Dutch\n",
      "tensor([False]) name: Homulka; predicted: Japanese; Actual: Czech\n",
      "tensor([True]) name: Dobroserdov; predicted: Russian; Actual: Russian\n",
      "tensor([True]) name: Bencivenni; predicted: Italian; Actual: Italian\n",
      "tensor([False]) name: Ton; predicted: Scottish; Actual: Vietnamese\n",
      "tensor([False]) name: Cao; predicted: Portuguese; Actual: Vietnamese\n",
      "tensor([False]) name: Diarmaid; predicted: Czech; Actual: Irish\n",
      "tensor([False]) name: Handal; predicted: Czech; Actual: Arabic\n",
      "tensor([True]) name: Nosek; predicted: Polish; Actual: Polish\n",
      "tensor([False]) name: Luker; predicted: German; Actual: English\n",
      "tensor([False]) name: Zhizhikin; predicted: Chinese; Actual: Russian\n",
      "tensor([False]) name: Kubo; predicted: Portuguese; Actual: Japanese\n",
      "tensor([False]) name: Sakellariou; predicted: Vietnamese; Actual: Greek\n",
      "tensor([True]) name: Bilias; predicted: Greek; Actual: Greek\n",
      "tensor([False]) name: Close; predicted: German; Actual: Greek\n",
      "tensor([False]) name: Deschamps; predicted: Greek; Actual: French\n",
      "tensor([False]) name: Zha; predicted: Japanese; Actual: Chinese\n",
      "tensor([True]) name: Romao; predicted: Portuguese; Actual: Portuguese\n"
     ]
    },
    {
     "data": {
      "text/plain": [
       "0.26"
      ]
     },
     "execution_count": 43,
     "metadata": {},
     "output_type": "execute_result"
    }
   ],
   "source": [
    "correct = 0\n",
    "for i in range(100):\n",
    "    correct += evaluate2()\n",
    "\n",
    "correct / 100\n",
    "    "
   ]
  },
  {
   "cell_type": "code",
   "execution_count": null,
   "id": "442266b8-b4f8-4010-aaa1-0745d21643a4",
   "metadata": {},
   "outputs": [],
   "source": []
  }
 ],
 "metadata": {
  "kernelspec": {
   "display_name": "Python 3 (ipykernel)",
   "language": "python",
   "name": "python3"
  },
  "language_info": {
   "codemirror_mode": {
    "name": "ipython",
    "version": 3
   },
   "file_extension": ".py",
   "mimetype": "text/x-python",
   "name": "python",
   "nbconvert_exporter": "python",
   "pygments_lexer": "ipython3",
   "version": "3.9.13"
  }
 },
 "nbformat": 4,
 "nbformat_minor": 5
}
