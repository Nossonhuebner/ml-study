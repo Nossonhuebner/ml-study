{
 "cells": [
  {
   "cell_type": "code",
   "execution_count": 2,
   "id": "144b16d1-cc24-4a58-b659-93295f2dd330",
   "metadata": {},
   "outputs": [],
   "source": [
    "! [ -e /content ] && pip install -Uqq fastbook\n",
    "import fastbook\n",
    "fastbook.setup_book()\n",
    "#hide\n",
    "from fastai.vision.all import *\n",
    "from fastbook import *\n",
    "\n",
    "matplotlib.rc('image', cmap='Greys')"
   ]
  },
  {
   "cell_type": "code",
   "execution_count": null,
   "id": "55866e51-9243-4e19-9d45-354723bbcc46",
   "metadata": {},
   "outputs": [],
   "source": []
  },
  {
   "cell_type": "code",
   "execution_count": 143,
   "id": "b48dcdf7-6f75-4475-aed7-39463f1b55a7",
   "metadata": {},
   "outputs": [],
   "source": []
  },
  {
   "cell_type": "code",
   "execution_count": 5,
   "id": "187fee6b-30a1-4c2f-8e94-553c79d08cb3",
   "metadata": {},
   "outputs": [
    {
     "data": {
      "text/plain": [
       "(#2) [Path('training'),Path('testing')]"
      ]
     },
     "execution_count": 5,
     "metadata": {},
     "output_type": "execute_result"
    }
   ],
   "source": []
  },
  {
   "cell_type": "code",
   "execution_count": 6,
   "id": "dee463f7-b38c-4627-bdbb-33f4c08c031f",
   "metadata": {},
   "outputs": [
    {
     "data": {
      "text/plain": [
       "(#10) [Path('training/8'),Path('training/3'),Path('training/9'),Path('training/2'),Path('training/4'),Path('training/1'),Path('training/0'),Path('training/5'),Path('training/7'),Path('training/6')]"
      ]
     },
     "execution_count": 6,
     "metadata": {},
     "output_type": "execute_result"
    }
   ],
   "source": []
  },
  {
   "cell_type": "code",
   "execution_count": 7,
   "id": "efcb4d75-65eb-41d4-8f46-923989c8e2f3",
   "metadata": {},
   "outputs": [
    {
     "data": {
      "text/plain": [
       "torch.nn.modules.container.Sequential"
      ]
     },
     "execution_count": 7,
     "metadata": {},
     "output_type": "execute_result"
    }
   ],
   "source": [
    "modell = nn.Sequential(\n",
    "    nn.Linear(28*28,30),\n",
    "    nn.ReLU(),\n",
    "    nn.Linear(30,10),\n",
    "    nn.CrossEntropyLoss\n",
    "    \n"
   ]
  },
  {
   "cell_type": "code",
   "execution_count": 12,
   "id": "62762864-4ed2-46ec-97f7-b067b6dd54dc",
   "metadata": {},
   "outputs": [],
   "source": [
    "from torchvision import datasets"
   ]
  },
  {
   "cell_type": "code",
   "execution_count": 13,
   "id": "a193d16b-d23e-4775-94ba-7fa860f58370",
   "metadata": {},
   "outputs": [
    {
     "data": {
      "text/plain": [
       "torchvision.datasets.mnist.MNIST"
      ]
     },
     "execution_count": 13,
     "metadata": {},
     "output_type": "execute_result"
    }
   ],
   "source": [
    "datasets.MNIST"
   ]
  },
  {
   "cell_type": "code",
   "execution_count": 14,
   "id": "2497a08f-db23-4f3d-8fc5-79f3b0e7a634",
   "metadata": {},
   "outputs": [
    {
     "name": "stdout",
     "output_type": "stream",
     "text": [
      "Using cuda device\n"
     ]
    }
   ],
   "source": [
    "device = (\n",
    "    \"cuda\"\n",
    "    if torch.cuda.is_available()\n",
    "    else \"mps\"\n",
    "    if torch.backends.mps.is_available()\n",
    "    else \"cpu\"\n",
    ")\n",
    "print(f\"Using {device} device\")\n"
   ]
  },
  {
   "cell_type": "code",
   "execution_count": 152,
   "id": "1234ad68-7220-41f7-997d-2d6248293214",
   "metadata": {},
   "outputs": [],
   "source": [
    "class NossonNet(nn.Module):\n",
    "    def __init__(self):\n",
    "        super().__init__()\n",
    "        self.flatten = nn.Flatten()\n",
    "        self.layers = nn.Sequential(\n",
    "            nn.Linear(28*28, 1024), nn.ReLU(),\n",
    "            nn.Linear(1024, 512), nn.ReLU(),\n",
    "            nn.Linear(512, 10)\n",
    "        )\n",
    "        \n",
    "    def forward(self, x):\n",
    "        x = self.flatten(x)\n",
    "        logits = self.layers(x)\n",
    "        return logits\n"
   ]
  },
  {
   "cell_type": "code",
   "execution_count": 153,
   "id": "f4705757-e179-4fe6-ab07-b45fedc0f909",
   "metadata": {},
   "outputs": [],
   "source": [
    "model = NossonNet().to(device)"
   ]
  },
  {
   "cell_type": "code",
   "execution_count": 154,
   "id": "c57795fa-bfe0-48d5-9005-3fdb1432ef98",
   "metadata": {},
   "outputs": [
    {
     "name": "stdout",
     "output_type": "stream",
     "text": [
      "NossonNet(\n",
      "  (flatten): Flatten(start_dim=1, end_dim=-1)\n",
      "  (layers): Sequential(\n",
      "    (0): Linear(in_features=784, out_features=1024, bias=True)\n",
      "    (1): ReLU()\n",
      "    (2): Linear(in_features=1024, out_features=512, bias=True)\n",
      "    (3): ReLU()\n",
      "    (4): Linear(in_features=512, out_features=10, bias=True)\n",
      "  )\n",
      ")\n"
     ]
    }
   ],
   "source": [
    "print(model)"
   ]
  },
  {
   "cell_type": "code",
   "execution_count": 155,
   "id": "67a2fa9b-161a-46d2-af9d-b5280b3058d5",
   "metadata": {},
   "outputs": [],
   "source": [
    "loss_fn = nn.CrossEntropyLoss()"
   ]
  },
  {
   "cell_type": "code",
   "execution_count": 156,
   "id": "09124047-7a7a-44a2-89fb-83c86d342f79",
   "metadata": {},
   "outputs": [],
   "source": [
    "optimizer = torch.optim.Adam(model.parameters(), lr=1e-3)"
   ]
  },
  {
   "cell_type": "code",
   "execution_count": 157,
   "id": "09be4549-0881-4b8f-98e6-efbd23f456c7",
   "metadata": {},
   "outputs": [
    {
     "data": {
      "text/plain": [
       "<function __main__.train(dataloader, model, loss_fn, optimizer)>"
      ]
     },
     "execution_count": 157,
     "metadata": {},
     "output_type": "execute_result"
    }
   ],
   "source": [
    "train"
   ]
  },
  {
   "cell_type": "code",
   "execution_count": 158,
   "id": "a60da7a6-9b5e-4455-a370-b2d68cfc3faf",
   "metadata": {},
   "outputs": [],
   "source": [
    "from torch.utils.data import DataLoader, Subset"
   ]
  },
  {
   "cell_type": "code",
   "execution_count": 159,
   "id": "282074ed-9168-44db-82c7-721e259fa0f6",
   "metadata": {},
   "outputs": [],
   "source": [
    "training_data = datasets.MNIST(\n",
    "    root=\"data\",\n",
    "    train=True,\n",
    "    download=True,\n",
    "    transform=ToTensor(),\n",
    ")"
   ]
  },
  {
   "cell_type": "code",
   "execution_count": null,
   "id": "18592a8f-d3eb-4b93-a975-9a5ff419c79f",
   "metadata": {},
   "outputs": [],
   "source": []
  },
  {
   "cell_type": "code",
   "execution_count": 160,
   "id": "38e40ce2-879f-49cc-9c0a-85c969cebafb",
   "metadata": {},
   "outputs": [],
   "source": [
    "from torchvision.transforms import ToTensor"
   ]
  },
  {
   "cell_type": "code",
   "execution_count": 161,
   "id": "8ce87149-163a-4a2d-8236-ec153c9191b3",
   "metadata": {},
   "outputs": [],
   "source": [
    "test_data = datasets.MNIST(\n",
    "    root=\"data\",\n",
    "    train=False,\n",
    "    download=True,\n",
    "    transform=ToTensor(),\n",
    ")"
   ]
  },
  {
   "cell_type": "code",
   "execution_count": 162,
   "id": "6d6618d1-2401-40e8-8125-eea925a1e10e",
   "metadata": {},
   "outputs": [],
   "source": [
    "bs = 64\n",
    "train_dl = DataLoader(training_data, batch_size=(bs))\n",
    "test_dl = DataLoader(test_data, batch_size=(bs))"
   ]
  },
  {
   "cell_type": "code",
   "execution_count": 163,
   "id": "e282a157-861e-4f05-a05c-02a19c47c856",
   "metadata": {},
   "outputs": [
    {
     "name": "stdout",
     "output_type": "stream",
     "text": [
      "x shape: torch.Size([64, 1, 28, 28])\n",
      "y shape: torch.Size([64]) torch.int64\n"
     ]
    }
   ],
   "source": [
    "for X, y in test_dl:\n",
    "    print(f\"x shape: {X.shape}\")\n",
    "    print(f\"y shape: {y.shape} {y.dtype}\")\n",
    "    break"
   ]
  },
  {
   "cell_type": "code",
   "execution_count": 164,
   "id": "a41efd48-53b6-4a77-95a7-4b222ebe3df9",
   "metadata": {},
   "outputs": [
    {
     "data": {
      "text/plain": [
       "Dataset MNIST\n",
       "    Number of datapoints: 60000\n",
       "    Root location: data\n",
       "    Split: Train\n",
       "    StandardTransform\n",
       "Transform: ToTensor()"
      ]
     },
     "execution_count": 164,
     "metadata": {},
     "output_type": "execute_result"
    }
   ],
   "source": [
    "training_data"
   ]
  },
  {
   "cell_type": "code",
   "execution_count": null,
   "id": "64250d46-936f-419c-a279-477fd0eea898",
   "metadata": {},
   "outputs": [],
   "source": []
  },
  {
   "cell_type": "code",
   "execution_count": 165,
   "id": "07e39acf-410f-4311-9037-d9df431d1ff2",
   "metadata": {},
   "outputs": [],
   "source": [
    "def train(dataloader, model, loss_fn, optimizer):\n",
    "    size = len(dataloader.dataset)\n",
    "    model.train()\n",
    "    for batch, (X, y) in enumerate(dataloader):\n",
    "        X, y = X.to(device), y.to(device)\n",
    "        \n",
    "        pred = model.forward(X)\n",
    "        loss = loss_fn(pred, y)\n",
    "        \n",
    "        loss.backward()\n",
    "        optimizer.step()\n",
    "        optimizer.zero_grad()\n",
    "        \n",
    "        if batch % 100 == 0:\n",
    "            loss, current = loss.item(), (batch + 1) * len(X)\n",
    "            print(f\"loss: {loss:>7f}  [{current:>5d}/{size:>5d}]\")"
   ]
  },
  {
   "cell_type": "code",
   "execution_count": 166,
   "id": "e270c7bb-ddda-46a7-997a-c1588c93cc4e",
   "metadata": {},
   "outputs": [],
   "source": [
    "def test(dataloader, model, loss_fn):\n",
    "    size = len(dataloader.dataset)\n",
    "    num_batches = len(dataloader)\n",
    "    \n",
    "    model.eval()\n",
    "    test_loss, correct = 0, 0\n",
    "    with torch.no_grad():\n",
    "        for X, y in dataloader:\n",
    "            X, y = X.to(device), y.to(device)\n",
    "            pred = model(X)\n",
    "            test_loss += loss_fn(pred, y)\n",
    "            correct += (pred.argmax(1) == y).type(torch.float).sum().item()\n",
    "    test_loss /= num_batches\n",
    "    correct /= size\n",
    "    print(f\"Test Error: \\n Accuracy: {(100*correct):>0.1f}%, Avg loss: {test_loss:>8f} \\n\")\n",
    "\n",
    "            "
   ]
  },
  {
   "cell_type": "code",
   "execution_count": null,
   "id": "4e83ec60-13f0-4808-a72f-bd2948cad1be",
   "metadata": {},
   "outputs": [],
   "source": []
  },
  {
   "cell_type": "code",
   "execution_count": null,
   "id": "36eab5a4-241b-4db7-a4b3-606815849fd1",
   "metadata": {},
   "outputs": [],
   "source": []
  },
  {
   "cell_type": "code",
   "execution_count": 167,
   "id": "5507c785-747e-412b-9a17-ed1ff7a02e24",
   "metadata": {},
   "outputs": [],
   "source": [
    "epochs = 5\n"
   ]
  },
  {
   "cell_type": "code",
   "execution_count": 169,
   "id": "be7d48cf-0649-4a72-b5ae-c07d75955c36",
   "metadata": {},
   "outputs": [
    {
     "name": "stdout",
     "output_type": "stream",
     "text": [
      "Epoch: 1 \n",
      "-------------\n",
      "loss: 0.009298  [   64/60000]\n",
      "loss: 0.030736  [ 6464/60000]\n",
      "loss: 0.091963  [12864/60000]\n",
      "loss: 0.012878  [19264/60000]\n",
      "loss: 0.007566  [25664/60000]\n",
      "loss: 0.011539  [32064/60000]\n",
      "loss: 0.032311  [38464/60000]\n",
      "loss: 0.010416  [44864/60000]\n",
      "loss: 0.124058  [51264/60000]\n",
      "loss: 0.041994  [57664/60000]\n",
      "Test Error: \n",
      " Accuracy: 96.5%, Avg loss: 0.153824 \n",
      "\n",
      "Epoch: 2 \n",
      "-------------\n",
      "loss: 0.063908  [   64/60000]\n",
      "loss: 0.000682  [ 6464/60000]\n",
      "loss: 0.002297  [12864/60000]\n",
      "loss: 0.001522  [19264/60000]\n",
      "loss: 0.062076  [25664/60000]\n",
      "loss: 0.003467  [32064/60000]\n",
      "loss: 0.016062  [38464/60000]\n",
      "loss: 0.018538  [44864/60000]\n",
      "loss: 0.135696  [51264/60000]\n",
      "loss: 0.011569  [57664/60000]\n",
      "Test Error: \n",
      " Accuracy: 97.8%, Avg loss: 0.103558 \n",
      "\n",
      "Epoch: 3 \n",
      "-------------\n",
      "loss: 0.000543  [   64/60000]\n",
      "loss: 0.003368  [ 6464/60000]\n",
      "loss: 0.007537  [12864/60000]\n",
      "loss: 0.090774  [19264/60000]\n",
      "loss: 0.002959  [25664/60000]\n",
      "loss: 0.028009  [32064/60000]\n",
      "loss: 0.002309  [38464/60000]\n",
      "loss: 0.002656  [44864/60000]\n",
      "loss: 0.034491  [51264/60000]\n",
      "loss: 0.072503  [57664/60000]\n",
      "Test Error: \n",
      " Accuracy: 98.1%, Avg loss: 0.084860 \n",
      "\n",
      "Epoch: 4 \n",
      "-------------\n",
      "loss: 0.044704  [   64/60000]\n",
      "loss: 0.042496  [ 6464/60000]\n",
      "loss: 0.029393  [12864/60000]\n",
      "loss: 0.009465  [19264/60000]\n",
      "loss: 0.000428  [25664/60000]\n",
      "loss: 0.013911  [32064/60000]\n",
      "loss: 0.009681  [38464/60000]\n",
      "loss: 0.017220  [44864/60000]\n",
      "loss: 0.009781  [51264/60000]\n",
      "loss: 0.002716  [57664/60000]\n",
      "Test Error: \n",
      " Accuracy: 97.4%, Avg loss: 0.125078 \n",
      "\n",
      "Epoch: 5 \n",
      "-------------\n",
      "loss: 0.009391  [   64/60000]\n",
      "loss: 0.000480  [ 6464/60000]\n",
      "loss: 0.030717  [12864/60000]\n",
      "loss: 0.000464  [19264/60000]\n",
      "loss: 0.017075  [25664/60000]\n",
      "loss: 0.006183  [32064/60000]\n",
      "loss: 0.007445  [38464/60000]\n",
      "loss: 0.001719  [44864/60000]\n",
      "loss: 0.088662  [51264/60000]\n",
      "loss: 0.017888  [57664/60000]\n",
      "Test Error: \n",
      " Accuracy: 98.0%, Avg loss: 0.092597 \n",
      "\n"
     ]
    }
   ],
   "source": [
    "for t in range(epochs):\n",
    "    print(f\"Epoch: {t+1} \\n-------------\")\n",
    "    train(train_dl, model, loss_fn, optimizer)\n",
    "    test(test_dl, model, loss_fn)"
   ]
  },
  {
   "cell_type": "code",
   "execution_count": 178,
   "id": "646d58ee-7a1b-465b-ace0-90038c5ae15f",
   "metadata": {},
   "outputs": [
    {
     "data": {
      "text/plain": [
       "5"
      ]
     },
     "execution_count": 178,
     "metadata": {},
     "output_type": "execute_result"
    }
   ],
   "source": [
    "training_data[0][1]"
   ]
  },
  {
   "cell_type": "code",
   "execution_count": 181,
   "id": "189d0965-d157-4bcb-bf53-68ee3f330138",
   "metadata": {},
   "outputs": [
    {
     "data": {
      "text/plain": [
       "torch.Size([1, 784])"
      ]
     },
     "execution_count": 181,
     "metadata": {},
     "output_type": "execute_result"
    }
   ],
   "source": [
    "nn.Flatten()(training_data[0][0]).shape"
   ]
  },
  {
   "cell_type": "code",
   "execution_count": null,
   "id": "b200c362-4ca2-41c4-a859-d7642b2e6eb0",
   "metadata": {},
   "outputs": [],
   "source": []
  },
  {
   "cell_type": "code",
   "execution_count": null,
   "id": "71eb6d6d-a151-4c5c-8cf1-d0e39f907ebe",
   "metadata": {},
   "outputs": [],
   "source": []
  },
  {
   "cell_type": "code",
   "execution_count": 220,
   "id": "6d82a5ee-5ab0-4cb7-97e9-733c9de28227",
   "metadata": {},
   "outputs": [],
   "source": [
    "train_subset = Subset(training_data, list(range(50)))\n",
    "test_subset = Subset(test_data, list(range(50)))\n",
    "subset_train_loader = DataLoader(train_subset, batch_size=(10))\n",
    "subset_test_loader = DataLoader(test_subset, batch_size=(10))"
   ]
  },
  {
   "cell_type": "code",
   "execution_count": 184,
   "id": "5b427abe-fa1c-474a-bb65-1d7acf0920e6",
   "metadata": {},
   "outputs": [],
   "source": []
  },
  {
   "cell_type": "code",
   "execution_count": 185,
   "id": "b56f678d-e98e-41ff-a6e9-9e85a5e79973",
   "metadata": {},
   "outputs": [],
   "source": []
  },
  {
   "cell_type": "code",
   "execution_count": 221,
   "id": "c2a17675-7698-4f06-90fa-79b1fea536bc",
   "metadata": {},
   "outputs": [],
   "source": [
    "coopppy = NossonNet().to(device)"
   ]
  },
  {
   "cell_type": "code",
   "execution_count": 222,
   "id": "34578a97-4ff6-4a74-a912-f11bb087ec3a",
   "metadata": {},
   "outputs": [],
   "source": [
    "opt = torch.optim.Adam(coopppy.parameters(), lr=1e-3)"
   ]
  },
  {
   "cell_type": "code",
   "execution_count": 223,
   "id": "0c505033-eab6-48b2-9c42-b5ad47c6517a",
   "metadata": {},
   "outputs": [
    {
     "name": "stdout",
     "output_type": "stream",
     "text": [
      "Epoch: 1 \n",
      "-------------\n",
      "loss: 2.308925  [   10/   50]\n",
      "Test Error: \n",
      " Accuracy: 38.0%, Avg loss: 2.069172 \n",
      "\n",
      "Epoch: 2 \n",
      "-------------\n",
      "loss: 1.733873  [   10/   50]\n",
      "Test Error: \n",
      " Accuracy: 54.0%, Avg loss: 1.652073 \n",
      "\n",
      "Epoch: 3 \n",
      "-------------\n",
      "loss: 0.994937  [   10/   50]\n",
      "Test Error: \n",
      " Accuracy: 68.0%, Avg loss: 1.230214 \n",
      "\n",
      "Epoch: 4 \n",
      "-------------\n",
      "loss: 0.417016  [   10/   50]\n",
      "Test Error: \n",
      " Accuracy: 68.0%, Avg loss: 0.979632 \n",
      "\n",
      "Epoch: 5 \n",
      "-------------\n",
      "loss: 0.149245  [   10/   50]\n",
      "Test Error: \n",
      " Accuracy: 68.0%, Avg loss: 0.887896 \n",
      "\n",
      "Epoch: 6 \n",
      "-------------\n",
      "loss: 0.030401  [   10/   50]\n",
      "Test Error: \n",
      " Accuracy: 62.0%, Avg loss: 0.946310 \n",
      "\n",
      "Epoch: 7 \n",
      "-------------\n",
      "loss: 0.008176  [   10/   50]\n",
      "Test Error: \n",
      " Accuracy: 64.0%, Avg loss: 1.041824 \n",
      "\n",
      "Epoch: 8 \n",
      "-------------\n",
      "loss: 0.003167  [   10/   50]\n",
      "Test Error: \n",
      " Accuracy: 64.0%, Avg loss: 1.081735 \n",
      "\n",
      "Epoch: 9 \n",
      "-------------\n",
      "loss: 0.001262  [   10/   50]\n",
      "Test Error: \n",
      " Accuracy: 62.0%, Avg loss: 1.093410 \n",
      "\n",
      "Epoch: 10 \n",
      "-------------\n",
      "loss: 0.000637  [   10/   50]\n",
      "Test Error: \n",
      " Accuracy: 64.0%, Avg loss: 1.098368 \n",
      "\n",
      "Epoch: 11 \n",
      "-------------\n",
      "loss: 0.000413  [   10/   50]\n",
      "Test Error: \n",
      " Accuracy: 64.0%, Avg loss: 1.100470 \n",
      "\n",
      "Epoch: 12 \n",
      "-------------\n",
      "loss: 0.000315  [   10/   50]\n",
      "Test Error: \n",
      " Accuracy: 64.0%, Avg loss: 1.101102 \n",
      "\n",
      "Epoch: 13 \n",
      "-------------\n",
      "loss: 0.000265  [   10/   50]\n",
      "Test Error: \n",
      " Accuracy: 64.0%, Avg loss: 1.101241 \n",
      "\n",
      "Epoch: 14 \n",
      "-------------\n",
      "loss: 0.000236  [   10/   50]\n",
      "Test Error: \n",
      " Accuracy: 64.0%, Avg loss: 1.101575 \n",
      "\n",
      "Epoch: 15 \n",
      "-------------\n",
      "loss: 0.000217  [   10/   50]\n",
      "Test Error: \n",
      " Accuracy: 66.0%, Avg loss: 1.102342 \n",
      "\n",
      "Epoch: 16 \n",
      "-------------\n",
      "loss: 0.000204  [   10/   50]\n",
      "Test Error: \n",
      " Accuracy: 66.0%, Avg loss: 1.103591 \n",
      "\n",
      "Epoch: 17 \n",
      "-------------\n",
      "loss: 0.000194  [   10/   50]\n",
      "Test Error: \n",
      " Accuracy: 66.0%, Avg loss: 1.105248 \n",
      "\n",
      "Epoch: 18 \n",
      "-------------\n",
      "loss: 0.000185  [   10/   50]\n",
      "Test Error: \n",
      " Accuracy: 66.0%, Avg loss: 1.107061 \n",
      "\n",
      "Epoch: 19 \n",
      "-------------\n",
      "loss: 0.000178  [   10/   50]\n",
      "Test Error: \n",
      " Accuracy: 66.0%, Avg loss: 1.108818 \n",
      "\n",
      "Epoch: 20 \n",
      "-------------\n",
      "loss: 0.000171  [   10/   50]\n",
      "Test Error: \n",
      " Accuracy: 66.0%, Avg loss: 1.110477 \n",
      "\n",
      "Epoch: 21 \n",
      "-------------\n",
      "loss: 0.000165  [   10/   50]\n",
      "Test Error: \n",
      " Accuracy: 66.0%, Avg loss: 1.111948 \n",
      "\n",
      "Epoch: 22 \n",
      "-------------\n",
      "loss: 0.000160  [   10/   50]\n",
      "Test Error: \n",
      " Accuracy: 64.0%, Avg loss: 1.113249 \n",
      "\n",
      "Epoch: 23 \n",
      "-------------\n",
      "loss: 0.000154  [   10/   50]\n",
      "Test Error: \n",
      " Accuracy: 64.0%, Avg loss: 1.114423 \n",
      "\n",
      "Epoch: 24 \n",
      "-------------\n",
      "loss: 0.000150  [   10/   50]\n",
      "Test Error: \n",
      " Accuracy: 64.0%, Avg loss: 1.115476 \n",
      "\n",
      "Epoch: 25 \n",
      "-------------\n",
      "loss: 0.000145  [   10/   50]\n",
      "Test Error: \n",
      " Accuracy: 64.0%, Avg loss: 1.116444 \n",
      "\n",
      "Epoch: 26 \n",
      "-------------\n",
      "loss: 0.000141  [   10/   50]\n",
      "Test Error: \n",
      " Accuracy: 64.0%, Avg loss: 1.117382 \n",
      "\n",
      "Epoch: 27 \n",
      "-------------\n",
      "loss: 0.000137  [   10/   50]\n",
      "Test Error: \n",
      " Accuracy: 64.0%, Avg loss: 1.118361 \n",
      "\n",
      "Epoch: 28 \n",
      "-------------\n",
      "loss: 0.000133  [   10/   50]\n",
      "Test Error: \n",
      " Accuracy: 64.0%, Avg loss: 1.119367 \n",
      "\n",
      "Epoch: 29 \n",
      "-------------\n",
      "loss: 0.000129  [   10/   50]\n",
      "Test Error: \n",
      " Accuracy: 64.0%, Avg loss: 1.120397 \n",
      "\n",
      "Epoch: 30 \n",
      "-------------\n",
      "loss: 0.000125  [   10/   50]\n",
      "Test Error: \n",
      " Accuracy: 64.0%, Avg loss: 1.121444 \n",
      "\n",
      "Epoch: 31 \n",
      "-------------\n",
      "loss: 0.000122  [   10/   50]\n",
      "Test Error: \n",
      " Accuracy: 64.0%, Avg loss: 1.122512 \n",
      "\n",
      "Epoch: 32 \n",
      "-------------\n",
      "loss: 0.000118  [   10/   50]\n",
      "Test Error: \n",
      " Accuracy: 64.0%, Avg loss: 1.123598 \n",
      "\n",
      "Epoch: 33 \n",
      "-------------\n",
      "loss: 0.000115  [   10/   50]\n",
      "Test Error: \n",
      " Accuracy: 64.0%, Avg loss: 1.124570 \n",
      "\n",
      "Epoch: 34 \n",
      "-------------\n",
      "loss: 0.000112  [   10/   50]\n",
      "Test Error: \n",
      " Accuracy: 64.0%, Avg loss: 1.125512 \n",
      "\n",
      "Epoch: 35 \n",
      "-------------\n",
      "loss: 0.000109  [   10/   50]\n",
      "Test Error: \n",
      " Accuracy: 62.0%, Avg loss: 1.126433 \n",
      "\n",
      "Epoch: 36 \n",
      "-------------\n",
      "loss: 0.000106  [   10/   50]\n",
      "Test Error: \n",
      " Accuracy: 62.0%, Avg loss: 1.127440 \n",
      "\n",
      "Epoch: 37 \n",
      "-------------\n",
      "loss: 0.000103  [   10/   50]\n",
      "Test Error: \n",
      " Accuracy: 62.0%, Avg loss: 1.128505 \n",
      "\n",
      "Epoch: 38 \n",
      "-------------\n",
      "loss: 0.000101  [   10/   50]\n",
      "Test Error: \n",
      " Accuracy: 62.0%, Avg loss: 1.129683 \n",
      "\n",
      "Epoch: 39 \n",
      "-------------\n",
      "loss: 0.000098  [   10/   50]\n",
      "Test Error: \n",
      " Accuracy: 62.0%, Avg loss: 1.130919 \n",
      "\n",
      "Epoch: 40 \n",
      "-------------\n",
      "loss: 0.000095  [   10/   50]\n",
      "Test Error: \n",
      " Accuracy: 62.0%, Avg loss: 1.132351 \n",
      "\n",
      "Epoch: 41 \n",
      "-------------\n",
      "loss: 0.000093  [   10/   50]\n",
      "Test Error: \n",
      " Accuracy: 62.0%, Avg loss: 1.133835 \n",
      "\n",
      "Epoch: 42 \n",
      "-------------\n",
      "loss: 0.000091  [   10/   50]\n",
      "Test Error: \n",
      " Accuracy: 62.0%, Avg loss: 1.135301 \n",
      "\n",
      "Epoch: 43 \n",
      "-------------\n",
      "loss: 0.000088  [   10/   50]\n",
      "Test Error: \n",
      " Accuracy: 62.0%, Avg loss: 1.136766 \n",
      "\n",
      "Epoch: 44 \n",
      "-------------\n",
      "loss: 0.000086  [   10/   50]\n",
      "Test Error: \n",
      " Accuracy: 62.0%, Avg loss: 1.138251 \n",
      "\n",
      "Epoch: 45 \n",
      "-------------\n",
      "loss: 0.000084  [   10/   50]\n",
      "Test Error: \n",
      " Accuracy: 62.0%, Avg loss: 1.139646 \n",
      "\n",
      "Epoch: 46 \n",
      "-------------\n",
      "loss: 0.000082  [   10/   50]\n",
      "Test Error: \n",
      " Accuracy: 62.0%, Avg loss: 1.140926 \n",
      "\n",
      "Epoch: 47 \n",
      "-------------\n",
      "loss: 0.000080  [   10/   50]\n",
      "Test Error: \n",
      " Accuracy: 62.0%, Avg loss: 1.142184 \n",
      "\n",
      "Epoch: 48 \n",
      "-------------\n",
      "loss: 0.000078  [   10/   50]\n",
      "Test Error: \n",
      " Accuracy: 62.0%, Avg loss: 1.143442 \n",
      "\n",
      "Epoch: 49 \n",
      "-------------\n",
      "loss: 0.000076  [   10/   50]\n",
      "Test Error: \n",
      " Accuracy: 62.0%, Avg loss: 1.144684 \n",
      "\n",
      "Epoch: 50 \n",
      "-------------\n",
      "loss: 0.000074  [   10/   50]\n",
      "Test Error: \n",
      " Accuracy: 62.0%, Avg loss: 1.145854 \n",
      "\n"
     ]
    }
   ],
   "source": [
    "for t in range(epochs*10):\n",
    "    print(f\"Epoch: {t+1} \\n-------------\")\n",
    "    train(subset_train_loader, coopppy, loss_fn, opt)\n",
    "    test(subset_test_loader, coopppy, loss_fn)"
   ]
  },
  {
   "cell_type": "code",
   "execution_count": null,
   "id": "80ac1e8e-a692-477c-a301-110b7e6ad274",
   "metadata": {},
   "outputs": [],
   "source": []
  }
 ],
 "metadata": {
  "kernelspec": {
   "display_name": "Python 3 (ipykernel)",
   "language": "python",
   "name": "python3"
  },
  "language_info": {
   "codemirror_mode": {
    "name": "ipython",
    "version": 3
   },
   "file_extension": ".py",
   "mimetype": "text/x-python",
   "name": "python",
   "nbconvert_exporter": "python",
   "pygments_lexer": "ipython3",
   "version": "3.9.13"
  }
 },
 "nbformat": 4,
 "nbformat_minor": 5
}
