{
 "cells": [
  {
   "cell_type": "code",
   "execution_count": null,
   "id": "c6a35b5d-432b-4c12-86c2-66b1a5695d77",
   "metadata": {},
   "outputs": [],
   "source": [
    "from torchvision import datasets\n",
    "from torch.utils.data import DataLoader\n",
    "from torchvision.transforms import ToTensor, ToPILImage\n",
    "from torch import nn\n",
    "import torch"
   ]
  },
  {
   "cell_type": "code",
   "execution_count": null,
   "id": "9b0dc320-58a6-40ee-bc9f-d2ea71b8d6b8",
   "metadata": {},
   "outputs": [],
   "source": [
    "train_dataset = datasets.FashionMNIST(root='data', train=True, transform=ToTensor(), download=True)\n",
    "test_dataset = datasets.FashionMNIST(root='data', train=False, transform=ToTensor(), download=True)\n"
   ]
  },
  {
   "cell_type": "code",
   "execution_count": 3,
   "id": "c204f8fe-8e70-49d1-a33e-8e5e98e5eb3a",
   "metadata": {},
   "outputs": [],
   "source": [
    "labels = ('T-shirt/top',\n",
    "'Trouser',\n",
    "'Pullover',\n",
    "'Dress',\n",
    "'Coat',\n",
    "'Sandal',\n",
    "'Shirt',\n",
    "'Sneaker',\n",
    "'Bag',\n",
    "'Ankle boot');"
   ]
  },
  {
   "cell_type": "code",
   "execution_count": 4,
   "id": "5d534b82-9adf-4a50-bafa-adc9060953d9",
   "metadata": {},
   "outputs": [
    {
     "name": "stdout",
     "output_type": "stream",
     "text": [
      "sample:  Ankle boot\n"
     ]
    },
    {
     "data": {
      "image/png": "[encoded data removed]",
      "text/plain": [
       "<PIL.Image.Image image mode=L size=28x28>"
      ]
     },
     "metadata": {},
     "output_type": "display_data"
    },
    {
     "name": "stdout",
     "output_type": "stream",
     "text": [
      "sample:  T-shirt/top\n"
     ]
    },
    {
     "data": {
      "image/png": "[encoded data removed]",
      "text/plain": [
       "<PIL.Image.Image image mode=L size=28x28>"
      ]
     },
     "metadata": {},
     "output_type": "display_data"
    },
    {
     "name": "stdout",
     "output_type": "stream",
     "text": [
      "sample:  T-shirt/top\n"
     ]
    },
    {
     "data": {
      "image/png": "[encoded data removed]",
      "text/plain": [
       "<PIL.Image.Image image mode=L size=28x28>"
      ]
     },
     "metadata": {},
     "output_type": "display_data"
    },
    {
     "name": "stdout",
     "output_type": "stream",
     "text": [
      "sample:  Dress\n"
     ]
    },
    {
     "data": {
      "image/png": "[encoded data removed]",
      "text/plain": [
       "<PIL.Image.Image image mode=L size=28x28>"
      ]
     },
     "metadata": {},
     "output_type": "display_data"
    },
    {
     "name": "stdout",
     "output_type": "stream",
     "text": [
      "sample:  T-shirt/top\n"
     ]
    },
    {
     "data": {
      "image/png": "[encoded data removed]",
      "text/plain": [
       "<PIL.Image.Image image mode=L size=28x28>"
      ]
     },
     "metadata": {},
     "output_type": "display_data"
    },
    {
     "name": "stdout",
     "output_type": "stream",
     "text": [
      "sample:  Pullover\n"
     ]
    },
    {
     "data": {
      "image/png": "[encoded data removed]",
      "text/plain": [
       "<PIL.Image.Image image mode=L size=28x28>"
      ]
     },
     "metadata": {},
     "output_type": "display_data"
    },
    {
     "name": "stdout",
     "output_type": "stream",
     "text": [
      "sample:  Sneaker\n"
     ]
    },
    {
     "data": {
      "image/png": "[encoded data removed]",
      "text/plain": [
       "<PIL.Image.Image image mode=L size=28x28>"
      ]
     },
     "metadata": {},
     "output_type": "display_data"
    },
    {
     "name": "stdout",
     "output_type": "stream",
     "text": [
      "sample:  Pullover\n"
     ]
    },
    {
     "data": {
      "image/png": "[encoded data removed]",
      "text/plain": [
       "<PIL.Image.Image image mode=L size=28x28>"
      ]
     },
     "metadata": {},
     "output_type": "display_data"
    },
    {
     "name": "stdout",
     "output_type": "stream",
     "text": [
      "sample:  Sandal\n"
     ]
    },
    {
     "data": {
      "image/png": "[encoded data removed]",
      "text/plain": [
       "<PIL.Image.Image image mode=L size=28x28>"
      ]
     },
     "metadata": {},
     "output_type": "display_data"
    },
    {
     "name": "stdout",
     "output_type": "stream",
     "text": [
      "sample:  Sandal\n"
     ]
    },
    {
     "data": {
      "image/png": "[encoded data removed]",
      "text/plain": [
       "<PIL.Image.Image image mode=L size=28x28>"
      ]
     },
     "metadata": {},
     "output_type": "display_data"
    },
    {
     "name": "stdout",
     "output_type": "stream",
     "text": [
      "sample:  T-shirt/top\n"
     ]
    },
    {
     "data": {
      "image/png": "[encoded data removed]",
      "text/plain": [
       "<PIL.Image.Image image mode=L size=28x28>"
      ]
     },
     "metadata": {},
     "output_type": "display_data"
    },
    {
     "name": "stdout",
     "output_type": "stream",
     "text": [
      "sample:  Ankle boot\n"
     ]
    },
    {
     "data": {
      "image/png": "[encoded data removed]",
      "text/plain": [
       "<PIL.Image.Image image mode=L size=28x28>"
      ]
     },
     "metadata": {},
     "output_type": "display_data"
    },
    {
     "name": "stdout",
     "output_type": "stream",
     "text": [
      "sample:  Sandal\n"
     ]
    },
    {
     "data": {
      "image/png": "[encoded data removed]",
      "text/plain": [
       "<PIL.Image.Image image mode=L size=28x28>"
      ]
     },
     "metadata": {},
     "output_type": "display_data"
    },
    {
     "name": "stdout",
     "output_type": "stream",
     "text": [
      "sample:  Sandal\n"
     ]
    },
    {
     "data": {
      "image/png": "[encoded data removed]",
      "text/plain": [
       "<PIL.Image.Image image mode=L size=28x28>"
      ]
     },
     "metadata": {},
     "output_type": "display_data"
    },
    {
     "name": "stdout",
     "output_type": "stream",
     "text": [
      "sample:  Sneaker\n"
     ]
    },
    {
     "data": {
      "image/png": "[encoded data removed]",
      "text/plain": [
       "<PIL.Image.Image image mode=L size=28x28>"
      ]
     },
     "metadata": {},
     "output_type": "display_data"
    },
    {
     "name": "stdout",
     "output_type": "stream",
     "text": [
      "sample:  Ankle boot\n"
     ]
    },
    {
     "data": {
      "image/png": "[encoded data removed]",
      "text/plain": [
       "<PIL.Image.Image image mode=L size=28x28>"
      ]
     },
     "metadata": {},
     "output_type": "display_data"
    },
    {
     "name": "stdout",
     "output_type": "stream",
     "text": [
      "sample:  Trouser\n"
     ]
    },
    {
     "data": {
      "image/png": "[encoded data removed]",
      "text/plain": [
       "<PIL.Image.Image image mode=L size=28x28>"
      ]
     },
     "metadata": {},
     "output_type": "display_data"
    },
    {
     "name": "stdout",
     "output_type": "stream",
     "text": [
      "sample:  T-shirt/top\n"
     ]
    },
    {
     "data": {
      "image/png": "[encoded data removed]",
      "text/plain": [
       "<PIL.Image.Image image mode=L size=28x28>"
      ]
     },
     "metadata": {},
     "output_type": "display_data"
    },
    {
     "name": "stdout",
     "output_type": "stream",
     "text": [
      "sample:  Shirt\n"
     ]
    },
    {
     "data": {
      "image/png": "[encoded data removed]",
      "text/plain": [
       "<PIL.Image.Image image mode=L size=28x28>"
      ]
     },
     "metadata": {},
     "output_type": "display_data"
    },
    {
     "name": "stdout",
     "output_type": "stream",
     "text": [
      "sample:  Coat\n"
     ]
    },
    {
     "data": {
      "image/png": "[encoded data removed]",
      "text/plain": [
       "<PIL.Image.Image image mode=L size=28x28>"
      ]
     },
     "metadata": {},
     "output_type": "display_data"
    }
   ],
   "source": [
    "for batch, (X, y) in [(x, v) for x, v in enumerate(train_dataset) if x < 20]:\n",
    "    print(f'sample:  {labels[y]}')\n",
    "    ToPILImage()(X).show()"
   ]
  },
  {
   "cell_type": "code",
   "execution_count": 5,
   "id": "3185c686-3bc3-4521-89a0-e85e27bc406c",
   "metadata": {},
   "outputs": [
    {
     "data": {
      "text/plain": [
       "60000"
      ]
     },
     "execution_count": 5,
     "metadata": {},
     "output_type": "execute_result"
    }
   ],
   "source": [
    "len(train_dataset)"
   ]
  },
  {
   "cell_type": "code",
   "execution_count": 6,
   "id": "d8f379f2-8bfd-4b58-bf4c-b9972b3d3e17",
   "metadata": {},
   "outputs": [],
   "source": [
    "# set([x[1] for x in train_dataset]) # list(range(10)) categories"
   ]
  },
  {
   "cell_type": "code",
   "execution_count": null,
   "id": "02f196f7-4e6d-4c9c-8110-eb997a80f48b",
   "metadata": {},
   "outputs": [],
   "source": []
  },
  {
   "cell_type": "code",
   "execution_count": 43,
   "id": "e7321a4a-ff3c-41ce-9d3e-a6540cc6294e",
   "metadata": {},
   "outputs": [],
   "source": [
    "class NossonBasic(nn.Module):\n",
    "    def __init__(self):\n",
    "        super().__init__()\n",
    "        self.flatten = nn.Flatten()\n",
    "        self.layers = nn.Sequential(\n",
    "            nn.Linear(28*28, 1026), nn.ReLU(),\n",
    "            nn.Linear(1026, 256), nn.ReLU(),\n",
    "            nn.Linear(256, 1026), nn.ReLU(),\n",
    "            nn.Linear(1026, 10)\n",
    "        )\n",
    "    def forward(self, x):\n",
    "        x = self.flatten(x)\n",
    "        logits = self.layers(x)\n",
    "        return logits\n"
   ]
  },
  {
   "cell_type": "code",
   "execution_count": 44,
   "id": "a8c2e0e7-fe06-4245-bda6-576f14e62ba3",
   "metadata": {},
   "outputs": [
    {
     "name": "stdout",
     "output_type": "stream",
     "text": [
      "Using cuda device\n"
     ]
    }
   ],
   "source": [
    "device = (\n",
    "    \"cuda\"\n",
    "    if torch.cuda.is_available()\n",
    "    else \"mps\"\n",
    "    if torch.backends.mps.is_available()\n",
    "    else \"cpu\"\n",
    ")\n",
    "print(f\"Using {device} device\")"
   ]
  },
  {
   "cell_type": "code",
   "execution_count": 45,
   "id": "ad51ea79-cc10-4889-800b-7de6180cdb34",
   "metadata": {},
   "outputs": [],
   "source": [
    "n = NossonBasic().to(device)"
   ]
  },
  {
   "cell_type": "code",
   "execution_count": 46,
   "id": "a14c468f-8fca-4e91-b80d-0ee2027c8df1",
   "metadata": {},
   "outputs": [
    {
     "data": {
      "text/plain": [
       "tensor([[ 0.0010,  0.0640,  0.0090,  0.0259,  0.0580, -0.0094,  0.0461, -0.0317,\n",
       "         -0.0074, -0.0409]], device='cuda:0', grad_fn=<AddmmBackward0>)"
      ]
     },
     "execution_count": 46,
     "metadata": {},
     "output_type": "execute_result"
    }
   ],
   "source": [
    "n.forward(train_dataset[0][0].to(device)) # random output logits for given model params at any point (currently randomly initialized)"
   ]
  },
  {
   "cell_type": "code",
   "execution_count": 47,
   "id": "c1db9d94-765d-41f9-b4d4-2ead05109cde",
   "metadata": {},
   "outputs": [
    {
     "data": {
      "text/plain": [
       "tensor([[ 0.0010,  0.0640,  0.0090,  0.0259,  0.0580, -0.0094,  0.0461, -0.0317,\n",
       "         -0.0074, -0.0409]], device='cuda:0', grad_fn=<AddmmBackward0>)"
      ]
     },
     "execution_count": 47,
     "metadata": {},
     "output_type": "execute_result"
    }
   ],
   "source": [
    "n(train_dataset[0][0].to(device))"
   ]
  },
  {
   "cell_type": "code",
   "execution_count": 48,
   "id": "19b5d772-2db3-49a4-b002-42c6a868deb8",
   "metadata": {},
   "outputs": [],
   "source": [
    "loss_fn = nn.CrossEntropyLoss()"
   ]
  },
  {
   "cell_type": "code",
   "execution_count": 49,
   "id": "c516d7f6-fea0-487f-9165-2add83ba36f5",
   "metadata": {},
   "outputs": [],
   "source": [
    "optimizer = torch.optim.Adam(n.parameters(), lr=1e-3)"
   ]
  },
  {
   "cell_type": "markdown",
   "id": "00770528-971e-412b-9026-74dca16ae2cb",
   "metadata": {},
   "source": [
    "#### Inspecting params / grads"
   ]
  },
  {
   "cell_type": "code",
   "execution_count": 50,
   "id": "ee0e8858-ce86-4ea0-956e-09274cebec09",
   "metadata": {},
   "outputs": [
    {
     "data": {
      "text/plain": [
       "torch.Size([784])"
      ]
     },
     "execution_count": 50,
     "metadata": {},
     "output_type": "execute_result"
    }
   ],
   "source": [
    "n.layers[0].weight[0].shape"
   ]
  },
  {
   "cell_type": "code",
   "execution_count": null,
   "id": "02f58855-6fc8-49c6-8e22-8db8cd292da8",
   "metadata": {},
   "outputs": [],
   "source": []
  },
  {
   "cell_type": "code",
   "execution_count": 51,
   "id": "edf02d57-4381-4a80-a39a-f40dc7f0d1a8",
   "metadata": {},
   "outputs": [],
   "source": [
    "list(n.layers[0].parameters())[1].grad # unset"
   ]
  },
  {
   "cell_type": "code",
   "execution_count": 52,
   "id": "1d64eabf-21dc-49f7-b315-39c47e4327c8",
   "metadata": {},
   "outputs": [],
   "source": [
    "n.layers[0].bias.grad"
   ]
  },
  {
   "cell_type": "code",
   "execution_count": 53,
   "id": "8d2c1556-8066-4dab-aef0-5b558e5c601a",
   "metadata": {},
   "outputs": [
    {
     "data": {
      "text/plain": [
       "(Parameter containing:\n",
       " tensor([ 0.0230, -0.0035,  0.0314,  ...,  0.0036, -0.0079,  0.0331],\n",
       "        device='cuda:0', requires_grad=True),\n",
       " torch.Size([1026]),\n",
       " torch.Size([1026, 784]))"
      ]
     },
     "execution_count": 53,
     "metadata": {},
     "output_type": "execute_result"
    }
   ],
   "source": [
    "n.layers[0].bias, n.layers[0].bias.shape, n.layers[0].weight.shape"
   ]
  },
  {
   "cell_type": "code",
   "execution_count": 54,
   "id": "a9953825-a33e-4f97-94bb-7251a3e9ec05",
   "metadata": {},
   "outputs": [
    {
     "data": {
      "text/plain": [
       "(ReLU(), torch.Size([256, 1026]))"
      ]
     },
     "execution_count": 54,
     "metadata": {},
     "output_type": "execute_result"
    }
   ],
   "source": [
    "n.layers[1], n.layers[2].weight.shape"
   ]
  },
  {
   "cell_type": "code",
   "execution_count": 55,
   "id": "d5a65f89-8681-49b0-93fe-72c0d2ad9489",
   "metadata": {},
   "outputs": [
    {
     "data": {
      "text/plain": [
       "tensor(2.3556, device='cuda:0', grad_fn=<NllLossBackward0>)"
      ]
     },
     "execution_count": 55,
     "metadata": {},
     "output_type": "execute_result"
    }
   ],
   "source": [
    "# loss for a single item:\n",
    "l = loss_fn(n.forward(train_dataset[0][0].to(device)), torch.tensor(train_dataset[0][1]).unsqueeze(dim=0).to(device)); l"
   ]
  },
  {
   "cell_type": "code",
   "execution_count": 56,
   "id": "646182b3-c76d-4971-b97a-bd7ae7c1823c",
   "metadata": {},
   "outputs": [
    {
     "data": {
      "text/plain": [
       "tensor([ 0.0000,  0.0011,  0.0000,  ...,  0.0000, -0.0009,  0.0000],\n",
       "       device='cuda:0')"
      ]
     },
     "execution_count": 56,
     "metadata": {},
     "output_type": "execute_result"
    }
   ],
   "source": [
    "l.backward() # calculate grads through computational graph\n",
    "n.layers[0].bias.grad"
   ]
  },
  {
   "cell_type": "code",
   "execution_count": 57,
   "id": "0b883f4e-db98-4d4d-8ba2-05c946ba2b06",
   "metadata": {},
   "outputs": [
    {
     "data": {
      "text/plain": [
       "(tensor([ 0.0230, -0.0035,  0.0314,  ...,  0.0036, -0.0079,  0.0331],\n",
       "        device='cuda:0', grad_fn=<CloneBackward0>),\n",
       " Parameter containing:\n",
       " tensor([ 0.0230, -0.0045,  0.0314,  ...,  0.0036, -0.0069,  0.0331],\n",
       "        device='cuda:0', requires_grad=True))"
      ]
     },
     "execution_count": 57,
     "metadata": {},
     "output_type": "execute_result"
    }
   ],
   "source": [
    "pre_update_bias = n.layers[0].bias.clone();pre_update_bias # unchanged - for comparison below\n",
    "\n",
    "optimizer.step() # use Adam optimizer to determine param update step\n",
    "\n",
    "new_bias = n.layers[0].bias # updated bias param for layer 0\n",
    "\n",
    "pre_update_bias, new_bias"
   ]
  },
  {
   "cell_type": "code",
   "execution_count": 58,
   "id": "6c661d81-9e4d-4415-a905-6ab7421d2146",
   "metadata": {},
   "outputs": [
    {
     "data": {
      "text/plain": [
       "tensor([0., 0., 0.,  ..., 0., 0., 0.], device='cuda:0')"
      ]
     },
     "execution_count": 58,
     "metadata": {},
     "output_type": "execute_result"
    }
   ],
   "source": [
    "optimizer.zero_grad() # reset grads\n",
    "n.layers[0].bias.grad"
   ]
  },
  {
   "cell_type": "code",
   "execution_count": null,
   "id": "f8b9e747-b7d0-4334-bb87-ccb39da4b2e9",
   "metadata": {},
   "outputs": [],
   "source": []
  },
  {
   "cell_type": "code",
   "execution_count": null,
   "id": "fee62436-81cd-435e-8091-7ef6d459638e",
   "metadata": {},
   "outputs": [],
   "source": []
  },
  {
   "cell_type": "code",
   "execution_count": null,
   "id": "d50439f2-b86a-4a4e-9853-ef9e2143116d",
   "metadata": {},
   "outputs": [],
   "source": []
  },
  {
   "cell_type": "markdown",
   "id": "6d8713f2-420d-480a-9589-fbd282767c90",
   "metadata": {},
   "source": [
    "### Training"
   ]
  },
  {
   "cell_type": "code",
   "execution_count": 59,
   "id": "ba1d202d-58ed-43ce-94db-246efbc49853",
   "metadata": {},
   "outputs": [],
   "source": [
    "def train(model, dataloader, loss_fn, optimizer):\n",
    "    model.train()\n",
    "    num_batches = len(dataloader)\n",
    "    loss = 0\n",
    "    for batch, (X, y) in enumerate(dataloader):\n",
    "        X, y = X.to(device), y.to(device)\n",
    "        logits = model(X)\n",
    "        loss = loss_fn(logits, y)\n",
    "        loss.backward()\n",
    "        optimizer.step()\n",
    "        optimizer.zero_grad()\n",
    "        \n",
    "    print(f'training loss: {loss}')"
   ]
  },
  {
   "cell_type": "code",
   "execution_count": 60,
   "id": "f10d226e-7060-43ea-b67d-e2e7dfefeced",
   "metadata": {},
   "outputs": [],
   "source": [
    "def test(model, dataloader, loss_fn):\n",
    "    model.eval()\n",
    "    size = len(dataloader.dataset)\n",
    "    num_batches = len(dataloader)\n",
    "\n",
    "    loss, correct = 0, 0\n",
    "    with torch.no_grad():\n",
    "        for batch, (X, y) in enumerate(dataloader):\n",
    "            X, y = X.to(device), y.to(device)\n",
    "            preds = model(X)\n",
    "            loss += loss_fn(preds, y)\n",
    "            correct += (preds.argmax(dim=1) == y).type(torch.float).sum().item()\n",
    "    correct /= size\n",
    "    loss /= num_batches\n",
    "    print(f\"Test Error: \\n Accuracy: {(100*correct):>0.1f}%, Avg loss: {loss:>8f} \\n\")\n",
    "    return (correct, loss)\n"
   ]
  },
  {
   "cell_type": "code",
   "execution_count": null,
   "id": "b9b2bfd7-d531-432a-b706-c4aa4b2a1ca8",
   "metadata": {},
   "outputs": [],
   "source": []
  },
  {
   "cell_type": "code",
   "execution_count": null,
   "id": "403f1d49-7027-4017-87db-143b3334a9ea",
   "metadata": {},
   "outputs": [],
   "source": []
  },
  {
   "cell_type": "code",
   "execution_count": 64,
   "id": "9aa9a289-80cd-4523-9fdd-30a2d93dff2d",
   "metadata": {},
   "outputs": [],
   "source": [
    "train_dataloader = DataLoader(train_dataset, batch_size=100)\n",
    "test_dataloader = DataLoader(test_dataset, batch_size=100)"
   ]
  },
  {
   "cell_type": "code",
   "execution_count": null,
   "id": "cb4a3026-c83d-4626-ac05-d462cf05f662",
   "metadata": {},
   "outputs": [],
   "source": []
  },
  {
   "cell_type": "code",
   "execution_count": 65,
   "id": "03a9d0f5-1c7d-45ff-ba53-5724f9c3a06e",
   "metadata": {},
   "outputs": [],
   "source": [
    "num_epochs = 10"
   ]
  },
  {
   "cell_type": "code",
   "execution_count": 66,
   "id": "cd18ed69-7b8f-43c7-bf14-c7c8248d46a5",
   "metadata": {},
   "outputs": [
    {
     "name": "stdout",
     "output_type": "stream",
     "text": [
      "training loss: 0.13741345703601837\n",
      "Test Error: \n",
      " Accuracy: 88.1%, Avg loss: 0.368958 \n",
      "\n",
      "training loss: 0.16642636060714722\n",
      "Test Error: \n",
      " Accuracy: 88.7%, Avg loss: 0.378666 \n",
      "\n",
      "training loss: 0.1566809117794037\n",
      "Test Error: \n",
      " Accuracy: 88.7%, Avg loss: 0.394716 \n",
      "\n",
      "training loss: 0.14958135783672333\n",
      "Test Error: \n",
      " Accuracy: 88.7%, Avg loss: 0.373710 \n",
      "\n",
      "training loss: 0.14078761637210846\n",
      "Test Error: \n",
      " Accuracy: 88.8%, Avg loss: 0.392758 \n",
      "\n",
      "training loss: 0.16878116130828857\n",
      "Test Error: \n",
      " Accuracy: 88.9%, Avg loss: 0.405709 \n",
      "\n",
      "training loss: 0.1363779604434967\n",
      "Test Error: \n",
      " Accuracy: 88.7%, Avg loss: 0.435390 \n",
      "\n",
      "training loss: 0.14530792832374573\n",
      "Test Error: \n",
      " Accuracy: 88.9%, Avg loss: 0.425578 \n",
      "\n",
      "training loss: 0.13109569251537323\n",
      "Test Error: \n",
      " Accuracy: 88.8%, Avg loss: 0.439227 \n",
      "\n",
      "training loss: 0.10050459206104279\n",
      "Test Error: \n",
      " Accuracy: 89.0%, Avg loss: 0.469630 \n",
      "\n"
     ]
    }
   ],
   "source": [
    "for _ in range(num_epochs):\n",
    "    train(n, train_dataloader, loss_fn, optimizer)\n",
    "    test(n, test_dataloader, loss_fn)"
   ]
  },
  {
   "cell_type": "code",
   "execution_count": null,
   "id": "5325ef80-9c84-435f-9f07-ac3038c386a4",
   "metadata": {},
   "outputs": [],
   "source": []
  },
  {
   "cell_type": "code",
   "execution_count": 67,
   "id": "33ed3d28-8bd6-42b0-b741-f284fd8c206d",
   "metadata": {},
   "outputs": [],
   "source": [
    "torch.save(n.state_dict(), 'fashion_model.pth')"
   ]
  },
  {
   "cell_type": "code",
   "execution_count": 68,
   "id": "52c401ae-0fcc-433e-a0d3-be9b06c7ad5d",
   "metadata": {},
   "outputs": [
    {
     "data": {
      "text/plain": [
       "<All keys matched successfully>"
      ]
     },
     "execution_count": 68,
     "metadata": {},
     "output_type": "execute_result"
    }
   ],
   "source": [
    "reloaded = NossonBasic().to(device)\n",
    "reloaded.load_state_dict(torch.load('fashion_model.pth'))"
   ]
  },
  {
   "cell_type": "code",
   "execution_count": 69,
   "id": "f14019df-2d34-400f-89fc-e82865c87b0a",
   "metadata": {},
   "outputs": [
    {
     "name": "stdout",
     "output_type": "stream",
     "text": [
      "Test Error: \n",
      " Accuracy: 89.0%, Avg loss: 0.469630 \n",
      "\n"
     ]
    },
    {
     "data": {
      "text/plain": [
       "(0.89, tensor(0.4696, device='cuda:0'))"
      ]
     },
     "execution_count": 69,
     "metadata": {},
     "output_type": "execute_result"
    }
   ],
   "source": [
    "test(reloaded, test_dataloader, loss_fn)"
   ]
  },
  {
   "cell_type": "code",
   "execution_count": null,
   "id": "67ed30af-117d-4c71-9f16-bda61304e45b",
   "metadata": {},
   "outputs": [],
   "source": []
  },
  {
   "cell_type": "code",
   "execution_count": null,
   "id": "a29f3cc3-31e2-45ac-aeef-41b46e2e9757",
   "metadata": {},
   "outputs": [],
   "source": []
  },
  {
   "cell_type": "code",
   "execution_count": 71,
   "id": "43f8191d-21b8-4414-bc48-b180f0a96aa4",
   "metadata": {},
   "outputs": [],
   "source": [
    "reloaded.eval()\n",
    "x, y = test_dataset[0][0], test_dataset[0][1]\n",
    "with torch.no_grad():\n",
    "    x = x.to(device)\n",
    "    pred = reloaded(x)"
   ]
  },
  {
   "cell_type": "code",
   "execution_count": 72,
   "id": "6d7c0a2f-3911-4cde-b2ac-e255a5b37571",
   "metadata": {},
   "outputs": [
    {
     "data": {
      "text/plain": [
       "tensor([[-17.3578, -16.0570, -28.8215, -24.9298, -27.8089,  -9.0431, -27.0112,\n",
       "         -11.2281, -22.2133,   5.6192]], device='cuda:0')"
      ]
     },
     "execution_count": 72,
     "metadata": {},
     "output_type": "execute_result"
    }
   ],
   "source": [
    "pred"
   ]
  },
  {
   "cell_type": "code",
   "execution_count": 73,
   "id": "54a59abf-732b-4c19-91e9-b490ae831a1d",
   "metadata": {},
   "outputs": [
    {
     "data": {
      "text/plain": [
       "torch.Size([1, 10])"
      ]
     },
     "execution_count": 73,
     "metadata": {},
     "output_type": "execute_result"
    }
   ],
   "source": [
    "pred.shape"
   ]
  },
  {
   "cell_type": "code",
   "execution_count": 76,
   "id": "17062c5c-ec05-4e5b-b111-50ed0d971410",
   "metadata": {},
   "outputs": [
    {
     "data": {
      "text/plain": [
       "tensor(9, device='cuda:0')"
      ]
     },
     "execution_count": 76,
     "metadata": {},
     "output_type": "execute_result"
    }
   ],
   "source": [
    "pred[0].argmax(0)"
   ]
  },
  {
   "cell_type": "code",
   "execution_count": null,
   "id": "da87a83e-e723-45ae-a92d-a63c2b49cecb",
   "metadata": {},
   "outputs": [],
   "source": []
  }
 ],
 "metadata": {
  "kernelspec": {
   "display_name": "Python 3 (ipykernel)",
   "language": "python",
   "name": "python3"
  },
  "language_info": {
   "codemirror_mode": {
    "name": "ipython",
    "version": 3
   },
   "file_extension": ".py",
   "mimetype": "text/x-python",
   "name": "python",
   "nbconvert_exporter": "python",
   "pygments_lexer": "ipython3",
   "version": "3.9.13"
  }
 },
 "nbformat": 4,
 "nbformat_minor": 5
}
